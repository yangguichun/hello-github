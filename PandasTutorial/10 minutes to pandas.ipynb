{
 "cells": [
  {
   "cell_type": "code",
   "execution_count": 7,
   "metadata": {},
   "outputs": [],
   "source": [
    "import pandas as pd\n",
    "import numpy as np\n",
    "import matplotlib.pyplot as plt"
   ]
  },
  {
   "cell_type": "code",
   "execution_count": 8,
   "metadata": {},
   "outputs": [
    {
     "data": {
      "text/plain": [
       "0    1.0\n",
       "1    3.0\n",
       "2    5.0\n",
       "3    NaN\n",
       "4    6.0\n",
       "5    8.0\n",
       "dtype: float64"
      ]
     },
     "execution_count": 8,
     "metadata": {},
     "output_type": "execute_result"
    }
   ],
   "source": [
    "s = pd.Series([1,3,5, np.nan, 6, 8])\n",
    "s"
   ]
  },
  {
   "cell_type": "code",
   "execution_count": 11,
   "metadata": {},
   "outputs": [
    {
     "data": {
      "text/plain": [
       "DatetimeIndex(['2017-11-10', '2017-11-11', '2017-11-12', '2017-11-13',\n",
       "               '2017-11-14', '2017-11-15'],\n",
       "              dtype='datetime64[ns]', freq='D')"
      ]
     },
     "execution_count": 11,
     "metadata": {},
     "output_type": "execute_result"
    }
   ],
   "source": [
    "dates = pd.date_range('20171110', periods=6)\n",
    "dates"
   ]
  },
  {
   "cell_type": "code",
   "execution_count": 15,
   "metadata": {},
   "outputs": [
    {
     "data": {
      "text/html": [
       "<div>\n",
       "<style>\n",
       "    .dataframe thead tr:only-child th {\n",
       "        text-align: right;\n",
       "    }\n",
       "\n",
       "    .dataframe thead th {\n",
       "        text-align: left;\n",
       "    }\n",
       "\n",
       "    .dataframe tbody tr th {\n",
       "        vertical-align: top;\n",
       "    }\n",
       "</style>\n",
       "<table border=\"1\" class=\"dataframe\">\n",
       "  <thead>\n",
       "    <tr style=\"text-align: right;\">\n",
       "      <th></th>\n",
       "      <th>A</th>\n",
       "      <th>B</th>\n",
       "      <th>C</th>\n",
       "      <th>D</th>\n",
       "      <th>E</th>\n",
       "    </tr>\n",
       "  </thead>\n",
       "  <tbody>\n",
       "    <tr>\n",
       "      <th>2017-11-10</th>\n",
       "      <td>0.088949</td>\n",
       "      <td>1.195171</td>\n",
       "      <td>-0.147498</td>\n",
       "      <td>-0.284960</td>\n",
       "      <td>0.941807</td>\n",
       "    </tr>\n",
       "    <tr>\n",
       "      <th>2017-11-11</th>\n",
       "      <td>-0.652043</td>\n",
       "      <td>-0.372747</td>\n",
       "      <td>-1.111846</td>\n",
       "      <td>-1.205566</td>\n",
       "      <td>-0.795906</td>\n",
       "    </tr>\n",
       "    <tr>\n",
       "      <th>2017-11-12</th>\n",
       "      <td>1.506811</td>\n",
       "      <td>0.387936</td>\n",
       "      <td>0.741005</td>\n",
       "      <td>0.077212</td>\n",
       "      <td>-1.397194</td>\n",
       "    </tr>\n",
       "    <tr>\n",
       "      <th>2017-11-13</th>\n",
       "      <td>0.436235</td>\n",
       "      <td>-0.484750</td>\n",
       "      <td>-0.355826</td>\n",
       "      <td>-0.537534</td>\n",
       "      <td>0.135888</td>\n",
       "    </tr>\n",
       "    <tr>\n",
       "      <th>2017-11-14</th>\n",
       "      <td>-1.077810</td>\n",
       "      <td>0.871428</td>\n",
       "      <td>-1.217853</td>\n",
       "      <td>0.029406</td>\n",
       "      <td>-1.678076</td>\n",
       "    </tr>\n",
       "    <tr>\n",
       "      <th>2017-11-15</th>\n",
       "      <td>-1.178783</td>\n",
       "      <td>1.220938</td>\n",
       "      <td>-0.675707</td>\n",
       "      <td>1.036128</td>\n",
       "      <td>-0.004328</td>\n",
       "    </tr>\n",
       "  </tbody>\n",
       "</table>\n",
       "</div>"
      ],
      "text/plain": [
       "                   A         B         C         D         E\n",
       "2017-11-10  0.088949  1.195171 -0.147498 -0.284960  0.941807\n",
       "2017-11-11 -0.652043 -0.372747 -1.111846 -1.205566 -0.795906\n",
       "2017-11-12  1.506811  0.387936  0.741005  0.077212 -1.397194\n",
       "2017-11-13  0.436235 -0.484750 -0.355826 -0.537534  0.135888\n",
       "2017-11-14 -1.077810  0.871428 -1.217853  0.029406 -1.678076\n",
       "2017-11-15 -1.178783  1.220938 -0.675707  1.036128 -0.004328"
      ]
     },
     "execution_count": 15,
     "metadata": {},
     "output_type": "execute_result"
    }
   ],
   "source": [
    "clnNameList = list('ABCDE')\n",
    "df = pd.DataFrame(np.random.randn(len(dates),len(clnNameList)), index=dates, columns=clnNameList)\n",
    "df"
   ]
  },
  {
   "cell_type": "code",
   "execution_count": 17,
   "metadata": {},
   "outputs": [
    {
     "data": {
      "text/plain": [
       "2017-11-10    0.088949\n",
       "2017-11-11   -0.652043\n",
       "2017-11-12    1.506811\n",
       "2017-11-13    0.436235\n",
       "2017-11-14   -1.077810\n",
       "2017-11-15   -1.178783\n",
       "Freq: D, Name: A, dtype: float64"
      ]
     },
     "execution_count": 17,
     "metadata": {},
     "output_type": "execute_result"
    }
   ],
   "source": [
    "df.A"
   ]
  },
  {
   "cell_type": "code",
   "execution_count": 18,
   "metadata": {},
   "outputs": [
    {
     "data": {
      "text/html": [
       "<div>\n",
       "<style>\n",
       "    .dataframe thead tr:only-child th {\n",
       "        text-align: right;\n",
       "    }\n",
       "\n",
       "    .dataframe thead th {\n",
       "        text-align: left;\n",
       "    }\n",
       "\n",
       "    .dataframe tbody tr th {\n",
       "        vertical-align: top;\n",
       "    }\n",
       "</style>\n",
       "<table border=\"1\" class=\"dataframe\">\n",
       "  <thead>\n",
       "    <tr style=\"text-align: right;\">\n",
       "      <th></th>\n",
       "      <th>A</th>\n",
       "      <th>B</th>\n",
       "      <th>C</th>\n",
       "      <th>D</th>\n",
       "      <th>E</th>\n",
       "    </tr>\n",
       "  </thead>\n",
       "  <tbody>\n",
       "    <tr>\n",
       "      <th>2017-11-10</th>\n",
       "      <td>0.088949</td>\n",
       "      <td>1.195171</td>\n",
       "      <td>-0.147498</td>\n",
       "      <td>-0.28496</td>\n",
       "      <td>0.941807</td>\n",
       "    </tr>\n",
       "  </tbody>\n",
       "</table>\n",
       "</div>"
      ],
      "text/plain": [
       "                   A         B         C        D         E\n",
       "2017-11-10  0.088949  1.195171 -0.147498 -0.28496  0.941807"
      ]
     },
     "execution_count": 18,
     "metadata": {},
     "output_type": "execute_result"
    }
   ],
   "source": [
    "df.head(1)"
   ]
  },
  {
   "cell_type": "code",
   "execution_count": 19,
   "metadata": {},
   "outputs": [
    {
     "data": {
      "text/html": [
       "<div>\n",
       "<style>\n",
       "    .dataframe thead tr:only-child th {\n",
       "        text-align: right;\n",
       "    }\n",
       "\n",
       "    .dataframe thead th {\n",
       "        text-align: left;\n",
       "    }\n",
       "\n",
       "    .dataframe tbody tr th {\n",
       "        vertical-align: top;\n",
       "    }\n",
       "</style>\n",
       "<table border=\"1\" class=\"dataframe\">\n",
       "  <thead>\n",
       "    <tr style=\"text-align: right;\">\n",
       "      <th></th>\n",
       "      <th>A</th>\n",
       "      <th>B</th>\n",
       "      <th>C</th>\n",
       "      <th>D</th>\n",
       "      <th>E</th>\n",
       "    </tr>\n",
       "  </thead>\n",
       "  <tbody>\n",
       "    <tr>\n",
       "      <th>2017-11-10</th>\n",
       "      <td>0.088949</td>\n",
       "      <td>1.195171</td>\n",
       "      <td>-0.147498</td>\n",
       "      <td>-0.284960</td>\n",
       "      <td>0.941807</td>\n",
       "    </tr>\n",
       "    <tr>\n",
       "      <th>2017-11-11</th>\n",
       "      <td>-0.652043</td>\n",
       "      <td>-0.372747</td>\n",
       "      <td>-1.111846</td>\n",
       "      <td>-1.205566</td>\n",
       "      <td>-0.795906</td>\n",
       "    </tr>\n",
       "    <tr>\n",
       "      <th>2017-11-12</th>\n",
       "      <td>1.506811</td>\n",
       "      <td>0.387936</td>\n",
       "      <td>0.741005</td>\n",
       "      <td>0.077212</td>\n",
       "      <td>-1.397194</td>\n",
       "    </tr>\n",
       "  </tbody>\n",
       "</table>\n",
       "</div>"
      ],
      "text/plain": [
       "                   A         B         C         D         E\n",
       "2017-11-10  0.088949  1.195171 -0.147498 -0.284960  0.941807\n",
       "2017-11-11 -0.652043 -0.372747 -1.111846 -1.205566 -0.795906\n",
       "2017-11-12  1.506811  0.387936  0.741005  0.077212 -1.397194"
      ]
     },
     "execution_count": 19,
     "metadata": {},
     "output_type": "execute_result"
    }
   ],
   "source": [
    "df.head(3)"
   ]
  },
  {
   "cell_type": "code",
   "execution_count": 20,
   "metadata": {},
   "outputs": [
    {
     "data": {
      "text/html": [
       "<div>\n",
       "<style>\n",
       "    .dataframe thead tr:only-child th {\n",
       "        text-align: right;\n",
       "    }\n",
       "\n",
       "    .dataframe thead th {\n",
       "        text-align: left;\n",
       "    }\n",
       "\n",
       "    .dataframe tbody tr th {\n",
       "        vertical-align: top;\n",
       "    }\n",
       "</style>\n",
       "<table border=\"1\" class=\"dataframe\">\n",
       "  <thead>\n",
       "    <tr style=\"text-align: right;\">\n",
       "      <th></th>\n",
       "      <th>A</th>\n",
       "      <th>B</th>\n",
       "      <th>C</th>\n",
       "      <th>D</th>\n",
       "      <th>E</th>\n",
       "    </tr>\n",
       "  </thead>\n",
       "  <tbody>\n",
       "    <tr>\n",
       "      <th>2017-11-15</th>\n",
       "      <td>-1.178783</td>\n",
       "      <td>1.220938</td>\n",
       "      <td>-0.675707</td>\n",
       "      <td>1.036128</td>\n",
       "      <td>-0.004328</td>\n",
       "    </tr>\n",
       "  </tbody>\n",
       "</table>\n",
       "</div>"
      ],
      "text/plain": [
       "                   A         B         C         D         E\n",
       "2017-11-15 -1.178783  1.220938 -0.675707  1.036128 -0.004328"
      ]
     },
     "execution_count": 20,
     "metadata": {},
     "output_type": "execute_result"
    }
   ],
   "source": [
    "df.tail(1)"
   ]
  },
  {
   "cell_type": "code",
   "execution_count": 21,
   "metadata": {},
   "outputs": [
    {
     "data": {
      "text/plain": [
       "DatetimeIndex(['2017-11-10', '2017-11-11', '2017-11-12', '2017-11-13',\n",
       "               '2017-11-14', '2017-11-15'],\n",
       "              dtype='datetime64[ns]', freq='D')"
      ]
     },
     "execution_count": 21,
     "metadata": {},
     "output_type": "execute_result"
    }
   ],
   "source": [
    "df.index"
   ]
  },
  {
   "cell_type": "code",
   "execution_count": 22,
   "metadata": {},
   "outputs": [
    {
     "data": {
      "text/plain": [
       "Index(['A', 'B', 'C', 'D', 'E'], dtype='object')"
      ]
     },
     "execution_count": 22,
     "metadata": {},
     "output_type": "execute_result"
    }
   ],
   "source": [
    "df.columns"
   ]
  },
  {
   "cell_type": "code",
   "execution_count": 26,
   "metadata": {},
   "outputs": [
    {
     "data": {
      "text/plain": [
       "'B'"
      ]
     },
     "execution_count": 26,
     "metadata": {},
     "output_type": "execute_result"
    }
   ],
   "source": [
    "df.columns[1]"
   ]
  },
  {
   "cell_type": "code",
   "execution_count": 27,
   "metadata": {},
   "outputs": [
    {
     "data": {
      "text/plain": [
       "array([[ 0.08894935,  1.19517108, -0.14749837, -0.28495965,  0.94180715],\n",
       "       [-0.65204328, -0.37274664, -1.11184598, -1.20556563, -0.79590648],\n",
       "       [ 1.50681065,  0.38793623,  0.7410047 ,  0.07721217, -1.39719381],\n",
       "       [ 0.4362351 , -0.48474974, -0.35582646, -0.53753388,  0.13588836],\n",
       "       [-1.0778104 ,  0.87142801, -1.21785324,  0.02940571, -1.67807628],\n",
       "       [-1.17878262,  1.22093765, -0.67570716,  1.03612809, -0.00432799]])"
      ]
     },
     "execution_count": 27,
     "metadata": {},
     "output_type": "execute_result"
    }
   ],
   "source": [
    "df.values"
   ]
  },
  {
   "cell_type": "markdown",
   "metadata": {},
   "source": [
    "Describe show a quick statistic summary of your data"
   ]
  },
  {
   "cell_type": "code",
   "execution_count": 28,
   "metadata": {},
   "outputs": [
    {
     "data": {
      "text/html": [
       "<div>\n",
       "<style>\n",
       "    .dataframe thead tr:only-child th {\n",
       "        text-align: right;\n",
       "    }\n",
       "\n",
       "    .dataframe thead th {\n",
       "        text-align: left;\n",
       "    }\n",
       "\n",
       "    .dataframe tbody tr th {\n",
       "        vertical-align: top;\n",
       "    }\n",
       "</style>\n",
       "<table border=\"1\" class=\"dataframe\">\n",
       "  <thead>\n",
       "    <tr style=\"text-align: right;\">\n",
       "      <th></th>\n",
       "      <th>A</th>\n",
       "      <th>B</th>\n",
       "      <th>C</th>\n",
       "      <th>D</th>\n",
       "      <th>E</th>\n",
       "    </tr>\n",
       "  </thead>\n",
       "  <tbody>\n",
       "    <tr>\n",
       "      <th>count</th>\n",
       "      <td>6.000000</td>\n",
       "      <td>6.000000</td>\n",
       "      <td>6.000000</td>\n",
       "      <td>6.000000</td>\n",
       "      <td>6.000000</td>\n",
       "    </tr>\n",
       "    <tr>\n",
       "      <th>mean</th>\n",
       "      <td>-0.146107</td>\n",
       "      <td>0.469663</td>\n",
       "      <td>-0.461288</td>\n",
       "      <td>-0.147552</td>\n",
       "      <td>-0.466302</td>\n",
       "    </tr>\n",
       "    <tr>\n",
       "      <th>std</th>\n",
       "      <td>1.031210</td>\n",
       "      <td>0.758871</td>\n",
       "      <td>0.720651</td>\n",
       "      <td>0.744754</td>\n",
       "      <td>1.000242</td>\n",
       "    </tr>\n",
       "    <tr>\n",
       "      <th>min</th>\n",
       "      <td>-1.178783</td>\n",
       "      <td>-0.484750</td>\n",
       "      <td>-1.217853</td>\n",
       "      <td>-1.205566</td>\n",
       "      <td>-1.678076</td>\n",
       "    </tr>\n",
       "    <tr>\n",
       "      <th>25%</th>\n",
       "      <td>-0.971369</td>\n",
       "      <td>-0.182576</td>\n",
       "      <td>-1.002811</td>\n",
       "      <td>-0.474390</td>\n",
       "      <td>-1.246872</td>\n",
       "    </tr>\n",
       "    <tr>\n",
       "      <th>50%</th>\n",
       "      <td>-0.281547</td>\n",
       "      <td>0.629682</td>\n",
       "      <td>-0.515767</td>\n",
       "      <td>-0.127777</td>\n",
       "      <td>-0.400117</td>\n",
       "    </tr>\n",
       "    <tr>\n",
       "      <th>75%</th>\n",
       "      <td>0.349414</td>\n",
       "      <td>1.114235</td>\n",
       "      <td>-0.199580</td>\n",
       "      <td>0.065261</td>\n",
       "      <td>0.100834</td>\n",
       "    </tr>\n",
       "    <tr>\n",
       "      <th>max</th>\n",
       "      <td>1.506811</td>\n",
       "      <td>1.220938</td>\n",
       "      <td>0.741005</td>\n",
       "      <td>1.036128</td>\n",
       "      <td>0.941807</td>\n",
       "    </tr>\n",
       "  </tbody>\n",
       "</table>\n",
       "</div>"
      ],
      "text/plain": [
       "              A         B         C         D         E\n",
       "count  6.000000  6.000000  6.000000  6.000000  6.000000\n",
       "mean  -0.146107  0.469663 -0.461288 -0.147552 -0.466302\n",
       "std    1.031210  0.758871  0.720651  0.744754  1.000242\n",
       "min   -1.178783 -0.484750 -1.217853 -1.205566 -1.678076\n",
       "25%   -0.971369 -0.182576 -1.002811 -0.474390 -1.246872\n",
       "50%   -0.281547  0.629682 -0.515767 -0.127777 -0.400117\n",
       "75%    0.349414  1.114235 -0.199580  0.065261  0.100834\n",
       "max    1.506811  1.220938  0.741005  1.036128  0.941807"
      ]
     },
     "execution_count": 28,
     "metadata": {},
     "output_type": "execute_result"
    }
   ],
   "source": [
    "df.describe()"
   ]
  },
  {
   "cell_type": "code",
   "execution_count": 29,
   "metadata": {},
   "outputs": [
    {
     "data": {
      "text/html": [
       "<div>\n",
       "<style>\n",
       "    .dataframe thead tr:only-child th {\n",
       "        text-align: right;\n",
       "    }\n",
       "\n",
       "    .dataframe thead th {\n",
       "        text-align: left;\n",
       "    }\n",
       "\n",
       "    .dataframe tbody tr th {\n",
       "        vertical-align: top;\n",
       "    }\n",
       "</style>\n",
       "<table border=\"1\" class=\"dataframe\">\n",
       "  <thead>\n",
       "    <tr style=\"text-align: right;\">\n",
       "      <th></th>\n",
       "      <th>2017-11-10 00:00:00</th>\n",
       "      <th>2017-11-11 00:00:00</th>\n",
       "      <th>2017-11-12 00:00:00</th>\n",
       "      <th>2017-11-13 00:00:00</th>\n",
       "      <th>2017-11-14 00:00:00</th>\n",
       "      <th>2017-11-15 00:00:00</th>\n",
       "    </tr>\n",
       "  </thead>\n",
       "  <tbody>\n",
       "    <tr>\n",
       "      <th>A</th>\n",
       "      <td>0.088949</td>\n",
       "      <td>-0.652043</td>\n",
       "      <td>1.506811</td>\n",
       "      <td>0.436235</td>\n",
       "      <td>-1.077810</td>\n",
       "      <td>-1.178783</td>\n",
       "    </tr>\n",
       "    <tr>\n",
       "      <th>B</th>\n",
       "      <td>1.195171</td>\n",
       "      <td>-0.372747</td>\n",
       "      <td>0.387936</td>\n",
       "      <td>-0.484750</td>\n",
       "      <td>0.871428</td>\n",
       "      <td>1.220938</td>\n",
       "    </tr>\n",
       "    <tr>\n",
       "      <th>C</th>\n",
       "      <td>-0.147498</td>\n",
       "      <td>-1.111846</td>\n",
       "      <td>0.741005</td>\n",
       "      <td>-0.355826</td>\n",
       "      <td>-1.217853</td>\n",
       "      <td>-0.675707</td>\n",
       "    </tr>\n",
       "    <tr>\n",
       "      <th>D</th>\n",
       "      <td>-0.284960</td>\n",
       "      <td>-1.205566</td>\n",
       "      <td>0.077212</td>\n",
       "      <td>-0.537534</td>\n",
       "      <td>0.029406</td>\n",
       "      <td>1.036128</td>\n",
       "    </tr>\n",
       "    <tr>\n",
       "      <th>E</th>\n",
       "      <td>0.941807</td>\n",
       "      <td>-0.795906</td>\n",
       "      <td>-1.397194</td>\n",
       "      <td>0.135888</td>\n",
       "      <td>-1.678076</td>\n",
       "      <td>-0.004328</td>\n",
       "    </tr>\n",
       "  </tbody>\n",
       "</table>\n",
       "</div>"
      ],
      "text/plain": [
       "   2017-11-10  2017-11-11  2017-11-12  2017-11-13  2017-11-14  2017-11-15\n",
       "A    0.088949   -0.652043    1.506811    0.436235   -1.077810   -1.178783\n",
       "B    1.195171   -0.372747    0.387936   -0.484750    0.871428    1.220938\n",
       "C   -0.147498   -1.111846    0.741005   -0.355826   -1.217853   -0.675707\n",
       "D   -0.284960   -1.205566    0.077212   -0.537534    0.029406    1.036128\n",
       "E    0.941807   -0.795906   -1.397194    0.135888   -1.678076   -0.004328"
      ]
     },
     "execution_count": 29,
     "metadata": {},
     "output_type": "execute_result"
    }
   ],
   "source": [
    "df.T"
   ]
  },
  {
   "cell_type": "code",
   "execution_count": 34,
   "metadata": {},
   "outputs": [
    {
     "data": {
      "text/html": [
       "<div>\n",
       "<style>\n",
       "    .dataframe thead tr:only-child th {\n",
       "        text-align: right;\n",
       "    }\n",
       "\n",
       "    .dataframe thead th {\n",
       "        text-align: left;\n",
       "    }\n",
       "\n",
       "    .dataframe tbody tr th {\n",
       "        vertical-align: top;\n",
       "    }\n",
       "</style>\n",
       "<table border=\"1\" class=\"dataframe\">\n",
       "  <thead>\n",
       "    <tr style=\"text-align: right;\">\n",
       "      <th></th>\n",
       "      <th>E</th>\n",
       "      <th>D</th>\n",
       "      <th>C</th>\n",
       "      <th>B</th>\n",
       "      <th>A</th>\n",
       "    </tr>\n",
       "  </thead>\n",
       "  <tbody>\n",
       "    <tr>\n",
       "      <th>2017-11-10</th>\n",
       "      <td>0.941807</td>\n",
       "      <td>-0.284960</td>\n",
       "      <td>-0.147498</td>\n",
       "      <td>1.195171</td>\n",
       "      <td>0.088949</td>\n",
       "    </tr>\n",
       "    <tr>\n",
       "      <th>2017-11-11</th>\n",
       "      <td>-0.795906</td>\n",
       "      <td>-1.205566</td>\n",
       "      <td>-1.111846</td>\n",
       "      <td>-0.372747</td>\n",
       "      <td>-0.652043</td>\n",
       "    </tr>\n",
       "    <tr>\n",
       "      <th>2017-11-12</th>\n",
       "      <td>-1.397194</td>\n",
       "      <td>0.077212</td>\n",
       "      <td>0.741005</td>\n",
       "      <td>0.387936</td>\n",
       "      <td>1.506811</td>\n",
       "    </tr>\n",
       "    <tr>\n",
       "      <th>2017-11-13</th>\n",
       "      <td>0.135888</td>\n",
       "      <td>-0.537534</td>\n",
       "      <td>-0.355826</td>\n",
       "      <td>-0.484750</td>\n",
       "      <td>0.436235</td>\n",
       "    </tr>\n",
       "    <tr>\n",
       "      <th>2017-11-14</th>\n",
       "      <td>-1.678076</td>\n",
       "      <td>0.029406</td>\n",
       "      <td>-1.217853</td>\n",
       "      <td>0.871428</td>\n",
       "      <td>-1.077810</td>\n",
       "    </tr>\n",
       "    <tr>\n",
       "      <th>2017-11-15</th>\n",
       "      <td>-0.004328</td>\n",
       "      <td>1.036128</td>\n",
       "      <td>-0.675707</td>\n",
       "      <td>1.220938</td>\n",
       "      <td>-1.178783</td>\n",
       "    </tr>\n",
       "  </tbody>\n",
       "</table>\n",
       "</div>"
      ],
      "text/plain": [
       "                   E         D         C         B         A\n",
       "2017-11-10  0.941807 -0.284960 -0.147498  1.195171  0.088949\n",
       "2017-11-11 -0.795906 -1.205566 -1.111846 -0.372747 -0.652043\n",
       "2017-11-12 -1.397194  0.077212  0.741005  0.387936  1.506811\n",
       "2017-11-13  0.135888 -0.537534 -0.355826 -0.484750  0.436235\n",
       "2017-11-14 -1.678076  0.029406 -1.217853  0.871428 -1.077810\n",
       "2017-11-15 -0.004328  1.036128 -0.675707  1.220938 -1.178783"
      ]
     },
     "execution_count": 34,
     "metadata": {},
     "output_type": "execute_result"
    }
   ],
   "source": [
    "df.sort_index(axis=1, ascending=False)"
   ]
  },
  {
   "cell_type": "code",
   "execution_count": 39,
   "metadata": {},
   "outputs": [
    {
     "data": {
      "text/html": [
       "<div>\n",
       "<style>\n",
       "    .dataframe thead tr:only-child th {\n",
       "        text-align: right;\n",
       "    }\n",
       "\n",
       "    .dataframe thead th {\n",
       "        text-align: left;\n",
       "    }\n",
       "\n",
       "    .dataframe tbody tr th {\n",
       "        vertical-align: top;\n",
       "    }\n",
       "</style>\n",
       "<table border=\"1\" class=\"dataframe\">\n",
       "  <thead>\n",
       "    <tr style=\"text-align: right;\">\n",
       "      <th></th>\n",
       "      <th>A</th>\n",
       "      <th>B</th>\n",
       "      <th>C</th>\n",
       "      <th>D</th>\n",
       "      <th>E</th>\n",
       "    </tr>\n",
       "  </thead>\n",
       "  <tbody>\n",
       "    <tr>\n",
       "      <th>2017-11-15</th>\n",
       "      <td>-1.178783</td>\n",
       "      <td>1.220938</td>\n",
       "      <td>-0.675707</td>\n",
       "      <td>1.036128</td>\n",
       "      <td>-0.004328</td>\n",
       "    </tr>\n",
       "    <tr>\n",
       "      <th>2017-11-14</th>\n",
       "      <td>-1.077810</td>\n",
       "      <td>0.871428</td>\n",
       "      <td>-1.217853</td>\n",
       "      <td>0.029406</td>\n",
       "      <td>-1.678076</td>\n",
       "    </tr>\n",
       "    <tr>\n",
       "      <th>2017-11-13</th>\n",
       "      <td>0.436235</td>\n",
       "      <td>-0.484750</td>\n",
       "      <td>-0.355826</td>\n",
       "      <td>-0.537534</td>\n",
       "      <td>0.135888</td>\n",
       "    </tr>\n",
       "    <tr>\n",
       "      <th>2017-11-12</th>\n",
       "      <td>1.506811</td>\n",
       "      <td>0.387936</td>\n",
       "      <td>0.741005</td>\n",
       "      <td>0.077212</td>\n",
       "      <td>-1.397194</td>\n",
       "    </tr>\n",
       "    <tr>\n",
       "      <th>2017-11-11</th>\n",
       "      <td>-0.652043</td>\n",
       "      <td>-0.372747</td>\n",
       "      <td>-1.111846</td>\n",
       "      <td>-1.205566</td>\n",
       "      <td>-0.795906</td>\n",
       "    </tr>\n",
       "    <tr>\n",
       "      <th>2017-11-10</th>\n",
       "      <td>0.088949</td>\n",
       "      <td>1.195171</td>\n",
       "      <td>-0.147498</td>\n",
       "      <td>-0.284960</td>\n",
       "      <td>0.941807</td>\n",
       "    </tr>\n",
       "  </tbody>\n",
       "</table>\n",
       "</div>"
      ],
      "text/plain": [
       "                   A         B         C         D         E\n",
       "2017-11-15 -1.178783  1.220938 -0.675707  1.036128 -0.004328\n",
       "2017-11-14 -1.077810  0.871428 -1.217853  0.029406 -1.678076\n",
       "2017-11-13  0.436235 -0.484750 -0.355826 -0.537534  0.135888\n",
       "2017-11-12  1.506811  0.387936  0.741005  0.077212 -1.397194\n",
       "2017-11-11 -0.652043 -0.372747 -1.111846 -1.205566 -0.795906\n",
       "2017-11-10  0.088949  1.195171 -0.147498 -0.284960  0.941807"
      ]
     },
     "execution_count": 39,
     "metadata": {},
     "output_type": "execute_result"
    }
   ],
   "source": [
    "df.sort_index(axis=0, ascending=False)"
   ]
  },
  {
   "cell_type": "code",
   "execution_count": 40,
   "metadata": {},
   "outputs": [
    {
     "data": {
      "text/html": [
       "<div>\n",
       "<style>\n",
       "    .dataframe thead tr:only-child th {\n",
       "        text-align: right;\n",
       "    }\n",
       "\n",
       "    .dataframe thead th {\n",
       "        text-align: left;\n",
       "    }\n",
       "\n",
       "    .dataframe tbody tr th {\n",
       "        vertical-align: top;\n",
       "    }\n",
       "</style>\n",
       "<table border=\"1\" class=\"dataframe\">\n",
       "  <thead>\n",
       "    <tr style=\"text-align: right;\">\n",
       "      <th></th>\n",
       "      <th>A</th>\n",
       "      <th>B</th>\n",
       "      <th>C</th>\n",
       "      <th>D</th>\n",
       "      <th>E</th>\n",
       "    </tr>\n",
       "  </thead>\n",
       "  <tbody>\n",
       "    <tr>\n",
       "      <th>2017-11-10</th>\n",
       "      <td>0.088949</td>\n",
       "      <td>1.195171</td>\n",
       "      <td>-0.147498</td>\n",
       "      <td>-0.28496</td>\n",
       "      <td>0.941807</td>\n",
       "    </tr>\n",
       "  </tbody>\n",
       "</table>\n",
       "</div>"
      ],
      "text/plain": [
       "                   A         B         C        D         E\n",
       "2017-11-10  0.088949  1.195171 -0.147498 -0.28496  0.941807"
      ]
     },
     "execution_count": 40,
     "metadata": {},
     "output_type": "execute_result"
    }
   ],
   "source": [
    "df[:1]"
   ]
  },
  {
   "cell_type": "code",
   "execution_count": 41,
   "metadata": {},
   "outputs": [
    {
     "data": {
      "text/html": [
       "<div>\n",
       "<style>\n",
       "    .dataframe thead tr:only-child th {\n",
       "        text-align: right;\n",
       "    }\n",
       "\n",
       "    .dataframe thead th {\n",
       "        text-align: left;\n",
       "    }\n",
       "\n",
       "    .dataframe tbody tr th {\n",
       "        vertical-align: top;\n",
       "    }\n",
       "</style>\n",
       "<table border=\"1\" class=\"dataframe\">\n",
       "  <thead>\n",
       "    <tr style=\"text-align: right;\">\n",
       "      <th></th>\n",
       "      <th>A</th>\n",
       "      <th>B</th>\n",
       "      <th>C</th>\n",
       "      <th>D</th>\n",
       "      <th>E</th>\n",
       "    </tr>\n",
       "  </thead>\n",
       "  <tbody>\n",
       "    <tr>\n",
       "      <th>2017-11-10</th>\n",
       "      <td>0.088949</td>\n",
       "      <td>1.195171</td>\n",
       "      <td>-0.147498</td>\n",
       "      <td>-0.284960</td>\n",
       "      <td>0.941807</td>\n",
       "    </tr>\n",
       "    <tr>\n",
       "      <th>2017-11-11</th>\n",
       "      <td>-0.652043</td>\n",
       "      <td>-0.372747</td>\n",
       "      <td>-1.111846</td>\n",
       "      <td>-1.205566</td>\n",
       "      <td>-0.795906</td>\n",
       "    </tr>\n",
       "    <tr>\n",
       "      <th>2017-11-12</th>\n",
       "      <td>1.506811</td>\n",
       "      <td>0.387936</td>\n",
       "      <td>0.741005</td>\n",
       "      <td>0.077212</td>\n",
       "      <td>-1.397194</td>\n",
       "    </tr>\n",
       "  </tbody>\n",
       "</table>\n",
       "</div>"
      ],
      "text/plain": [
       "                   A         B         C         D         E\n",
       "2017-11-10  0.088949  1.195171 -0.147498 -0.284960  0.941807\n",
       "2017-11-11 -0.652043 -0.372747 -1.111846 -1.205566 -0.795906\n",
       "2017-11-12  1.506811  0.387936  0.741005  0.077212 -1.397194"
      ]
     },
     "execution_count": 41,
     "metadata": {},
     "output_type": "execute_result"
    }
   ],
   "source": [
    "df[:3]"
   ]
  },
  {
   "cell_type": "code",
   "execution_count": 43,
   "metadata": {},
   "outputs": [
    {
     "data": {
      "text/html": [
       "<div>\n",
       "<style>\n",
       "    .dataframe thead tr:only-child th {\n",
       "        text-align: right;\n",
       "    }\n",
       "\n",
       "    .dataframe thead th {\n",
       "        text-align: left;\n",
       "    }\n",
       "\n",
       "    .dataframe tbody tr th {\n",
       "        vertical-align: top;\n",
       "    }\n",
       "</style>\n",
       "<table border=\"1\" class=\"dataframe\">\n",
       "  <thead>\n",
       "    <tr style=\"text-align: right;\">\n",
       "      <th></th>\n",
       "      <th>A</th>\n",
       "      <th>B</th>\n",
       "      <th>C</th>\n",
       "      <th>D</th>\n",
       "      <th>E</th>\n",
       "    </tr>\n",
       "  </thead>\n",
       "  <tbody>\n",
       "    <tr>\n",
       "      <th>2017-11-10</th>\n",
       "      <td>0.088949</td>\n",
       "      <td>1.195171</td>\n",
       "      <td>-0.147498</td>\n",
       "      <td>-0.284960</td>\n",
       "      <td>0.941807</td>\n",
       "    </tr>\n",
       "    <tr>\n",
       "      <th>2017-11-11</th>\n",
       "      <td>-0.652043</td>\n",
       "      <td>-0.372747</td>\n",
       "      <td>-1.111846</td>\n",
       "      <td>-1.205566</td>\n",
       "      <td>-0.795906</td>\n",
       "    </tr>\n",
       "    <tr>\n",
       "      <th>2017-11-12</th>\n",
       "      <td>1.506811</td>\n",
       "      <td>0.387936</td>\n",
       "      <td>0.741005</td>\n",
       "      <td>0.077212</td>\n",
       "      <td>-1.397194</td>\n",
       "    </tr>\n",
       "    <tr>\n",
       "      <th>2017-11-13</th>\n",
       "      <td>0.436235</td>\n",
       "      <td>-0.484750</td>\n",
       "      <td>-0.355826</td>\n",
       "      <td>-0.537534</td>\n",
       "      <td>0.135888</td>\n",
       "    </tr>\n",
       "    <tr>\n",
       "      <th>2017-11-14</th>\n",
       "      <td>-1.077810</td>\n",
       "      <td>0.871428</td>\n",
       "      <td>-1.217853</td>\n",
       "      <td>0.029406</td>\n",
       "      <td>-1.678076</td>\n",
       "    </tr>\n",
       "    <tr>\n",
       "      <th>2017-11-15</th>\n",
       "      <td>-1.178783</td>\n",
       "      <td>1.220938</td>\n",
       "      <td>-0.675707</td>\n",
       "      <td>1.036128</td>\n",
       "      <td>-0.004328</td>\n",
       "    </tr>\n",
       "  </tbody>\n",
       "</table>\n",
       "</div>"
      ],
      "text/plain": [
       "                   A         B         C         D         E\n",
       "2017-11-10  0.088949  1.195171 -0.147498 -0.284960  0.941807\n",
       "2017-11-11 -0.652043 -0.372747 -1.111846 -1.205566 -0.795906\n",
       "2017-11-12  1.506811  0.387936  0.741005  0.077212 -1.397194\n",
       "2017-11-13  0.436235 -0.484750 -0.355826 -0.537534  0.135888\n",
       "2017-11-14 -1.077810  0.871428 -1.217853  0.029406 -1.678076\n",
       "2017-11-15 -1.178783  1.220938 -0.675707  1.036128 -0.004328"
      ]
     },
     "execution_count": 43,
     "metadata": {},
     "output_type": "execute_result"
    }
   ],
   "source": [
    "df"
   ]
  },
  {
   "cell_type": "code",
   "execution_count": 46,
   "metadata": {},
   "outputs": [
    {
     "data": {
      "text/html": [
       "<div>\n",
       "<style>\n",
       "    .dataframe thead tr:only-child th {\n",
       "        text-align: right;\n",
       "    }\n",
       "\n",
       "    .dataframe thead th {\n",
       "        text-align: left;\n",
       "    }\n",
       "\n",
       "    .dataframe tbody tr th {\n",
       "        vertical-align: top;\n",
       "    }\n",
       "</style>\n",
       "<table border=\"1\" class=\"dataframe\">\n",
       "  <thead>\n",
       "    <tr style=\"text-align: right;\">\n",
       "      <th></th>\n",
       "      <th>A</th>\n",
       "      <th>B</th>\n",
       "      <th>C</th>\n",
       "      <th>D</th>\n",
       "      <th>E</th>\n",
       "    </tr>\n",
       "  </thead>\n",
       "  <tbody>\n",
       "    <tr>\n",
       "      <th>2017-11-14</th>\n",
       "      <td>-1.077810</td>\n",
       "      <td>0.871428</td>\n",
       "      <td>-1.217853</td>\n",
       "      <td>0.029406</td>\n",
       "      <td>-1.678076</td>\n",
       "    </tr>\n",
       "    <tr>\n",
       "      <th>2017-11-15</th>\n",
       "      <td>-1.178783</td>\n",
       "      <td>1.220938</td>\n",
       "      <td>-0.675707</td>\n",
       "      <td>1.036128</td>\n",
       "      <td>-0.004328</td>\n",
       "    </tr>\n",
       "  </tbody>\n",
       "</table>\n",
       "</div>"
      ],
      "text/plain": [
       "                   A         B         C         D         E\n",
       "2017-11-14 -1.077810  0.871428 -1.217853  0.029406 -1.678076\n",
       "2017-11-15 -1.178783  1.220938 -0.675707  1.036128 -0.004328"
      ]
     },
     "execution_count": 46,
     "metadata": {},
     "output_type": "execute_result"
    }
   ],
   "source": [
    "df[4:]"
   ]
  },
  {
   "cell_type": "code",
   "execution_count": 52,
   "metadata": {},
   "outputs": [
    {
     "data": {
      "text/html": [
       "<div>\n",
       "<style>\n",
       "    .dataframe thead tr:only-child th {\n",
       "        text-align: right;\n",
       "    }\n",
       "\n",
       "    .dataframe thead th {\n",
       "        text-align: left;\n",
       "    }\n",
       "\n",
       "    .dataframe tbody tr th {\n",
       "        vertical-align: top;\n",
       "    }\n",
       "</style>\n",
       "<table border=\"1\" class=\"dataframe\">\n",
       "  <thead>\n",
       "    <tr style=\"text-align: right;\">\n",
       "      <th></th>\n",
       "      <th>B</th>\n",
       "      <th>A</th>\n",
       "    </tr>\n",
       "  </thead>\n",
       "  <tbody>\n",
       "    <tr>\n",
       "      <th>2017-11-12</th>\n",
       "      <td>0.387936</td>\n",
       "      <td>1.506811</td>\n",
       "    </tr>\n",
       "    <tr>\n",
       "      <th>2017-11-13</th>\n",
       "      <td>-0.484750</td>\n",
       "      <td>0.436235</td>\n",
       "    </tr>\n",
       "  </tbody>\n",
       "</table>\n",
       "</div>"
      ],
      "text/plain": [
       "                   B         A\n",
       "2017-11-12  0.387936  1.506811\n",
       "2017-11-13 -0.484750  0.436235"
      ]
     },
     "execution_count": 52,
     "metadata": {},
     "output_type": "execute_result"
    }
   ],
   "source": [
    "df.loc['20171112':'20171113', ['B', 'A']]"
   ]
  },
  {
   "cell_type": "code",
   "execution_count": 53,
   "metadata": {},
   "outputs": [
    {
     "data": {
      "text/plain": [
       "B   -0.484750\n",
       "A    0.436235\n",
       "Name: 2017-11-13 00:00:00, dtype: float64"
      ]
     },
     "execution_count": 53,
     "metadata": {},
     "output_type": "execute_result"
    }
   ],
   "source": [
    "df.loc['20171113', ['B', 'A']]"
   ]
  },
  {
   "cell_type": "code",
   "execution_count": 56,
   "metadata": {},
   "outputs": [
    {
     "data": {
      "text/plain": [
       "0.088949349116276541"
      ]
     },
     "execution_count": 56,
     "metadata": {},
     "output_type": "execute_result"
    }
   ],
   "source": [
    "df.at[dates[0], 'A']"
   ]
  },
  {
   "cell_type": "markdown",
   "metadata": {},
   "source": [
    "# Selection by Position"
   ]
  },
  {
   "cell_type": "markdown",
   "metadata": {},
   "source": [
    "# *Select by Position*"
   ]
  },
  {
   "cell_type": "code",
   "execution_count": 58,
   "metadata": {},
   "outputs": [
    {
     "data": {
      "text/html": [
       "<div>\n",
       "<style>\n",
       "    .dataframe thead tr:only-child th {\n",
       "        text-align: right;\n",
       "    }\n",
       "\n",
       "    .dataframe thead th {\n",
       "        text-align: left;\n",
       "    }\n",
       "\n",
       "    .dataframe tbody tr th {\n",
       "        vertical-align: top;\n",
       "    }\n",
       "</style>\n",
       "<table border=\"1\" class=\"dataframe\">\n",
       "  <thead>\n",
       "    <tr style=\"text-align: right;\">\n",
       "      <th></th>\n",
       "      <th>A</th>\n",
       "      <th>B</th>\n",
       "      <th>C</th>\n",
       "      <th>D</th>\n",
       "      <th>E</th>\n",
       "    </tr>\n",
       "  </thead>\n",
       "  <tbody>\n",
       "    <tr>\n",
       "      <th>2017-11-10</th>\n",
       "      <td>0.088949</td>\n",
       "      <td>1.195171</td>\n",
       "      <td>-0.147498</td>\n",
       "      <td>-0.284960</td>\n",
       "      <td>0.941807</td>\n",
       "    </tr>\n",
       "    <tr>\n",
       "      <th>2017-11-11</th>\n",
       "      <td>-0.652043</td>\n",
       "      <td>-0.372747</td>\n",
       "      <td>-1.111846</td>\n",
       "      <td>-1.205566</td>\n",
       "      <td>-0.795906</td>\n",
       "    </tr>\n",
       "    <tr>\n",
       "      <th>2017-11-12</th>\n",
       "      <td>1.506811</td>\n",
       "      <td>0.387936</td>\n",
       "      <td>0.741005</td>\n",
       "      <td>0.077212</td>\n",
       "      <td>-1.397194</td>\n",
       "    </tr>\n",
       "    <tr>\n",
       "      <th>2017-11-13</th>\n",
       "      <td>0.436235</td>\n",
       "      <td>-0.484750</td>\n",
       "      <td>-0.355826</td>\n",
       "      <td>-0.537534</td>\n",
       "      <td>0.135888</td>\n",
       "    </tr>\n",
       "    <tr>\n",
       "      <th>2017-11-14</th>\n",
       "      <td>-1.077810</td>\n",
       "      <td>0.871428</td>\n",
       "      <td>-1.217853</td>\n",
       "      <td>0.029406</td>\n",
       "      <td>-1.678076</td>\n",
       "    </tr>\n",
       "    <tr>\n",
       "      <th>2017-11-15</th>\n",
       "      <td>-1.178783</td>\n",
       "      <td>1.220938</td>\n",
       "      <td>-0.675707</td>\n",
       "      <td>1.036128</td>\n",
       "      <td>-0.004328</td>\n",
       "    </tr>\n",
       "  </tbody>\n",
       "</table>\n",
       "</div>"
      ],
      "text/plain": [
       "                   A         B         C         D         E\n",
       "2017-11-10  0.088949  1.195171 -0.147498 -0.284960  0.941807\n",
       "2017-11-11 -0.652043 -0.372747 -1.111846 -1.205566 -0.795906\n",
       "2017-11-12  1.506811  0.387936  0.741005  0.077212 -1.397194\n",
       "2017-11-13  0.436235 -0.484750 -0.355826 -0.537534  0.135888\n",
       "2017-11-14 -1.077810  0.871428 -1.217853  0.029406 -1.678076\n",
       "2017-11-15 -1.178783  1.220938 -0.675707  1.036128 -0.004328"
      ]
     },
     "execution_count": 58,
     "metadata": {},
     "output_type": "execute_result"
    }
   ],
   "source": [
    "df"
   ]
  },
  {
   "cell_type": "code",
   "execution_count": 59,
   "metadata": {},
   "outputs": [
    {
     "data": {
      "text/html": [
       "<div>\n",
       "<style>\n",
       "    .dataframe thead tr:only-child th {\n",
       "        text-align: right;\n",
       "    }\n",
       "\n",
       "    .dataframe thead th {\n",
       "        text-align: left;\n",
       "    }\n",
       "\n",
       "    .dataframe tbody tr th {\n",
       "        vertical-align: top;\n",
       "    }\n",
       "</style>\n",
       "<table border=\"1\" class=\"dataframe\">\n",
       "  <thead>\n",
       "    <tr style=\"text-align: right;\">\n",
       "      <th></th>\n",
       "      <th>A</th>\n",
       "      <th>B</th>\n",
       "      <th>C</th>\n",
       "      <th>D</th>\n",
       "      <th>E</th>\n",
       "    </tr>\n",
       "  </thead>\n",
       "  <tbody>\n",
       "    <tr>\n",
       "      <th>2017-11-10</th>\n",
       "      <td>0.088949</td>\n",
       "      <td>1.195171</td>\n",
       "      <td>NaN</td>\n",
       "      <td>NaN</td>\n",
       "      <td>0.941807</td>\n",
       "    </tr>\n",
       "    <tr>\n",
       "      <th>2017-11-11</th>\n",
       "      <td>NaN</td>\n",
       "      <td>NaN</td>\n",
       "      <td>NaN</td>\n",
       "      <td>NaN</td>\n",
       "      <td>NaN</td>\n",
       "    </tr>\n",
       "    <tr>\n",
       "      <th>2017-11-12</th>\n",
       "      <td>1.506811</td>\n",
       "      <td>0.387936</td>\n",
       "      <td>0.741005</td>\n",
       "      <td>0.077212</td>\n",
       "      <td>NaN</td>\n",
       "    </tr>\n",
       "    <tr>\n",
       "      <th>2017-11-13</th>\n",
       "      <td>0.436235</td>\n",
       "      <td>NaN</td>\n",
       "      <td>NaN</td>\n",
       "      <td>NaN</td>\n",
       "      <td>0.135888</td>\n",
       "    </tr>\n",
       "    <tr>\n",
       "      <th>2017-11-14</th>\n",
       "      <td>NaN</td>\n",
       "      <td>0.871428</td>\n",
       "      <td>NaN</td>\n",
       "      <td>0.029406</td>\n",
       "      <td>NaN</td>\n",
       "    </tr>\n",
       "    <tr>\n",
       "      <th>2017-11-15</th>\n",
       "      <td>NaN</td>\n",
       "      <td>1.220938</td>\n",
       "      <td>NaN</td>\n",
       "      <td>1.036128</td>\n",
       "      <td>NaN</td>\n",
       "    </tr>\n",
       "  </tbody>\n",
       "</table>\n",
       "</div>"
      ],
      "text/plain": [
       "                   A         B         C         D         E\n",
       "2017-11-10  0.088949  1.195171       NaN       NaN  0.941807\n",
       "2017-11-11       NaN       NaN       NaN       NaN       NaN\n",
       "2017-11-12  1.506811  0.387936  0.741005  0.077212       NaN\n",
       "2017-11-13  0.436235       NaN       NaN       NaN  0.135888\n",
       "2017-11-14       NaN  0.871428       NaN  0.029406       NaN\n",
       "2017-11-15       NaN  1.220938       NaN  1.036128       NaN"
      ]
     },
     "execution_count": 59,
     "metadata": {},
     "output_type": "execute_result"
    }
   ],
   "source": [
    "df[df>0]"
   ]
  },
  {
   "cell_type": "code",
   "execution_count": 60,
   "metadata": {},
   "outputs": [
    {
     "data": {
      "text/html": [
       "<div>\n",
       "<style>\n",
       "    .dataframe thead tr:only-child th {\n",
       "        text-align: right;\n",
       "    }\n",
       "\n",
       "    .dataframe thead th {\n",
       "        text-align: left;\n",
       "    }\n",
       "\n",
       "    .dataframe tbody tr th {\n",
       "        vertical-align: top;\n",
       "    }\n",
       "</style>\n",
       "<table border=\"1\" class=\"dataframe\">\n",
       "  <thead>\n",
       "    <tr style=\"text-align: right;\">\n",
       "      <th></th>\n",
       "      <th>A</th>\n",
       "      <th>B</th>\n",
       "      <th>C</th>\n",
       "      <th>D</th>\n",
       "      <th>E</th>\n",
       "    </tr>\n",
       "  </thead>\n",
       "  <tbody>\n",
       "    <tr>\n",
       "      <th>2017-11-10</th>\n",
       "      <td>0.088949</td>\n",
       "      <td>1.195171</td>\n",
       "      <td>-0.147498</td>\n",
       "      <td>-0.284960</td>\n",
       "      <td>0.941807</td>\n",
       "    </tr>\n",
       "    <tr>\n",
       "      <th>2017-11-12</th>\n",
       "      <td>1.506811</td>\n",
       "      <td>0.387936</td>\n",
       "      <td>0.741005</td>\n",
       "      <td>0.077212</td>\n",
       "      <td>-1.397194</td>\n",
       "    </tr>\n",
       "    <tr>\n",
       "      <th>2017-11-13</th>\n",
       "      <td>0.436235</td>\n",
       "      <td>-0.484750</td>\n",
       "      <td>-0.355826</td>\n",
       "      <td>-0.537534</td>\n",
       "      <td>0.135888</td>\n",
       "    </tr>\n",
       "  </tbody>\n",
       "</table>\n",
       "</div>"
      ],
      "text/plain": [
       "                   A         B         C         D         E\n",
       "2017-11-10  0.088949  1.195171 -0.147498 -0.284960  0.941807\n",
       "2017-11-12  1.506811  0.387936  0.741005  0.077212 -1.397194\n",
       "2017-11-13  0.436235 -0.484750 -0.355826 -0.537534  0.135888"
      ]
     },
     "execution_count": 60,
     "metadata": {},
     "output_type": "execute_result"
    }
   ],
   "source": [
    "df[df.A > 0]"
   ]
  },
  {
   "cell_type": "code",
   "execution_count": 68,
   "metadata": {},
   "outputs": [
    {
     "data": {
      "text/html": [
       "<div>\n",
       "<style>\n",
       "    .dataframe thead tr:only-child th {\n",
       "        text-align: right;\n",
       "    }\n",
       "\n",
       "    .dataframe thead th {\n",
       "        text-align: left;\n",
       "    }\n",
       "\n",
       "    .dataframe tbody tr th {\n",
       "        vertical-align: top;\n",
       "    }\n",
       "</style>\n",
       "<table border=\"1\" class=\"dataframe\">\n",
       "  <thead>\n",
       "    <tr style=\"text-align: right;\">\n",
       "      <th></th>\n",
       "      <th>A</th>\n",
       "      <th>B</th>\n",
       "      <th>C</th>\n",
       "      <th>D</th>\n",
       "      <th>E</th>\n",
       "    </tr>\n",
       "  </thead>\n",
       "  <tbody>\n",
       "    <tr>\n",
       "      <th>2017-11-10</th>\n",
       "      <td>0.088949</td>\n",
       "      <td>1.195171</td>\n",
       "      <td>-0.147498</td>\n",
       "      <td>-0.284960</td>\n",
       "      <td>0.941807</td>\n",
       "    </tr>\n",
       "    <tr>\n",
       "      <th>2017-11-13</th>\n",
       "      <td>0.436235</td>\n",
       "      <td>-0.484750</td>\n",
       "      <td>-0.355826</td>\n",
       "      <td>-0.537534</td>\n",
       "      <td>0.135888</td>\n",
       "    </tr>\n",
       "  </tbody>\n",
       "</table>\n",
       "</div>"
      ],
      "text/plain": [
       "                   A         B         C         D         E\n",
       "2017-11-10  0.088949  1.195171 -0.147498 -0.284960  0.941807\n",
       "2017-11-13  0.436235 -0.484750 -0.355826 -0.537534  0.135888"
      ]
     },
     "execution_count": 68,
     "metadata": {},
     "output_type": "execute_result"
    }
   ],
   "source": [
    "df[df.E > 0]"
   ]
  },
  {
   "cell_type": "markdown",
   "metadata": {},
   "source": [
    "# Using the isin() method for filtering"
   ]
  },
  {
   "cell_type": "code",
   "execution_count": 62,
   "metadata": {
    "collapsed": true
   },
   "outputs": [],
   "source": [
    "df2 = df.copy()"
   ]
  },
  {
   "cell_type": "code",
   "execution_count": 63,
   "metadata": {},
   "outputs": [
    {
     "data": {
      "text/html": [
       "<div>\n",
       "<style>\n",
       "    .dataframe thead tr:only-child th {\n",
       "        text-align: right;\n",
       "    }\n",
       "\n",
       "    .dataframe thead th {\n",
       "        text-align: left;\n",
       "    }\n",
       "\n",
       "    .dataframe tbody tr th {\n",
       "        vertical-align: top;\n",
       "    }\n",
       "</style>\n",
       "<table border=\"1\" class=\"dataframe\">\n",
       "  <thead>\n",
       "    <tr style=\"text-align: right;\">\n",
       "      <th></th>\n",
       "      <th>A</th>\n",
       "      <th>B</th>\n",
       "      <th>C</th>\n",
       "      <th>D</th>\n",
       "      <th>E</th>\n",
       "    </tr>\n",
       "  </thead>\n",
       "  <tbody>\n",
       "    <tr>\n",
       "      <th>2017-11-10</th>\n",
       "      <td>0.088949</td>\n",
       "      <td>1.195171</td>\n",
       "      <td>-0.147498</td>\n",
       "      <td>-0.284960</td>\n",
       "      <td>0.941807</td>\n",
       "    </tr>\n",
       "    <tr>\n",
       "      <th>2017-11-11</th>\n",
       "      <td>-0.652043</td>\n",
       "      <td>-0.372747</td>\n",
       "      <td>-1.111846</td>\n",
       "      <td>-1.205566</td>\n",
       "      <td>-0.795906</td>\n",
       "    </tr>\n",
       "    <tr>\n",
       "      <th>2017-11-12</th>\n",
       "      <td>1.506811</td>\n",
       "      <td>0.387936</td>\n",
       "      <td>0.741005</td>\n",
       "      <td>0.077212</td>\n",
       "      <td>-1.397194</td>\n",
       "    </tr>\n",
       "    <tr>\n",
       "      <th>2017-11-13</th>\n",
       "      <td>0.436235</td>\n",
       "      <td>-0.484750</td>\n",
       "      <td>-0.355826</td>\n",
       "      <td>-0.537534</td>\n",
       "      <td>0.135888</td>\n",
       "    </tr>\n",
       "    <tr>\n",
       "      <th>2017-11-14</th>\n",
       "      <td>-1.077810</td>\n",
       "      <td>0.871428</td>\n",
       "      <td>-1.217853</td>\n",
       "      <td>0.029406</td>\n",
       "      <td>-1.678076</td>\n",
       "    </tr>\n",
       "    <tr>\n",
       "      <th>2017-11-15</th>\n",
       "      <td>-1.178783</td>\n",
       "      <td>1.220938</td>\n",
       "      <td>-0.675707</td>\n",
       "      <td>1.036128</td>\n",
       "      <td>-0.004328</td>\n",
       "    </tr>\n",
       "  </tbody>\n",
       "</table>\n",
       "</div>"
      ],
      "text/plain": [
       "                   A         B         C         D         E\n",
       "2017-11-10  0.088949  1.195171 -0.147498 -0.284960  0.941807\n",
       "2017-11-11 -0.652043 -0.372747 -1.111846 -1.205566 -0.795906\n",
       "2017-11-12  1.506811  0.387936  0.741005  0.077212 -1.397194\n",
       "2017-11-13  0.436235 -0.484750 -0.355826 -0.537534  0.135888\n",
       "2017-11-14 -1.077810  0.871428 -1.217853  0.029406 -1.678076\n",
       "2017-11-15 -1.178783  1.220938 -0.675707  1.036128 -0.004328"
      ]
     },
     "execution_count": 63,
     "metadata": {},
     "output_type": "execute_result"
    }
   ],
   "source": [
    "df2"
   ]
  },
  {
   "cell_type": "code",
   "execution_count": 64,
   "metadata": {
    "collapsed": true
   },
   "outputs": [],
   "source": [
    "df2['E']=list('一二三四五六')"
   ]
  },
  {
   "cell_type": "code",
   "execution_count": 65,
   "metadata": {},
   "outputs": [
    {
     "data": {
      "text/html": [
       "<div>\n",
       "<style>\n",
       "    .dataframe thead tr:only-child th {\n",
       "        text-align: right;\n",
       "    }\n",
       "\n",
       "    .dataframe thead th {\n",
       "        text-align: left;\n",
       "    }\n",
       "\n",
       "    .dataframe tbody tr th {\n",
       "        vertical-align: top;\n",
       "    }\n",
       "</style>\n",
       "<table border=\"1\" class=\"dataframe\">\n",
       "  <thead>\n",
       "    <tr style=\"text-align: right;\">\n",
       "      <th></th>\n",
       "      <th>A</th>\n",
       "      <th>B</th>\n",
       "      <th>C</th>\n",
       "      <th>D</th>\n",
       "      <th>E</th>\n",
       "    </tr>\n",
       "  </thead>\n",
       "  <tbody>\n",
       "    <tr>\n",
       "      <th>2017-11-10</th>\n",
       "      <td>0.088949</td>\n",
       "      <td>1.195171</td>\n",
       "      <td>-0.147498</td>\n",
       "      <td>-0.284960</td>\n",
       "      <td>一</td>\n",
       "    </tr>\n",
       "    <tr>\n",
       "      <th>2017-11-11</th>\n",
       "      <td>-0.652043</td>\n",
       "      <td>-0.372747</td>\n",
       "      <td>-1.111846</td>\n",
       "      <td>-1.205566</td>\n",
       "      <td>二</td>\n",
       "    </tr>\n",
       "    <tr>\n",
       "      <th>2017-11-12</th>\n",
       "      <td>1.506811</td>\n",
       "      <td>0.387936</td>\n",
       "      <td>0.741005</td>\n",
       "      <td>0.077212</td>\n",
       "      <td>三</td>\n",
       "    </tr>\n",
       "    <tr>\n",
       "      <th>2017-11-13</th>\n",
       "      <td>0.436235</td>\n",
       "      <td>-0.484750</td>\n",
       "      <td>-0.355826</td>\n",
       "      <td>-0.537534</td>\n",
       "      <td>四</td>\n",
       "    </tr>\n",
       "    <tr>\n",
       "      <th>2017-11-14</th>\n",
       "      <td>-1.077810</td>\n",
       "      <td>0.871428</td>\n",
       "      <td>-1.217853</td>\n",
       "      <td>0.029406</td>\n",
       "      <td>五</td>\n",
       "    </tr>\n",
       "    <tr>\n",
       "      <th>2017-11-15</th>\n",
       "      <td>-1.178783</td>\n",
       "      <td>1.220938</td>\n",
       "      <td>-0.675707</td>\n",
       "      <td>1.036128</td>\n",
       "      <td>六</td>\n",
       "    </tr>\n",
       "  </tbody>\n",
       "</table>\n",
       "</div>"
      ],
      "text/plain": [
       "                   A         B         C         D  E\n",
       "2017-11-10  0.088949  1.195171 -0.147498 -0.284960  一\n",
       "2017-11-11 -0.652043 -0.372747 -1.111846 -1.205566  二\n",
       "2017-11-12  1.506811  0.387936  0.741005  0.077212  三\n",
       "2017-11-13  0.436235 -0.484750 -0.355826 -0.537534  四\n",
       "2017-11-14 -1.077810  0.871428 -1.217853  0.029406  五\n",
       "2017-11-15 -1.178783  1.220938 -0.675707  1.036128  六"
      ]
     },
     "execution_count": 65,
     "metadata": {},
     "output_type": "execute_result"
    }
   ],
   "source": [
    "df2"
   ]
  },
  {
   "cell_type": "code",
   "execution_count": 67,
   "metadata": {},
   "outputs": [
    {
     "data": {
      "text/html": [
       "<div>\n",
       "<style>\n",
       "    .dataframe thead tr:only-child th {\n",
       "        text-align: right;\n",
       "    }\n",
       "\n",
       "    .dataframe thead th {\n",
       "        text-align: left;\n",
       "    }\n",
       "\n",
       "    .dataframe tbody tr th {\n",
       "        vertical-align: top;\n",
       "    }\n",
       "</style>\n",
       "<table border=\"1\" class=\"dataframe\">\n",
       "  <thead>\n",
       "    <tr style=\"text-align: right;\">\n",
       "      <th></th>\n",
       "      <th>A</th>\n",
       "      <th>B</th>\n",
       "      <th>C</th>\n",
       "      <th>D</th>\n",
       "      <th>E</th>\n",
       "    </tr>\n",
       "  </thead>\n",
       "  <tbody>\n",
       "    <tr>\n",
       "      <th>2017-11-12</th>\n",
       "      <td>1.506811</td>\n",
       "      <td>0.387936</td>\n",
       "      <td>0.741005</td>\n",
       "      <td>0.077212</td>\n",
       "      <td>三</td>\n",
       "    </tr>\n",
       "    <tr>\n",
       "      <th>2017-11-14</th>\n",
       "      <td>-1.077810</td>\n",
       "      <td>0.871428</td>\n",
       "      <td>-1.217853</td>\n",
       "      <td>0.029406</td>\n",
       "      <td>五</td>\n",
       "    </tr>\n",
       "  </tbody>\n",
       "</table>\n",
       "</div>"
      ],
      "text/plain": [
       "                   A         B         C         D  E\n",
       "2017-11-12  1.506811  0.387936  0.741005  0.077212  三\n",
       "2017-11-14 -1.077810  0.871428 -1.217853  0.029406  五"
      ]
     },
     "execution_count": 67,
     "metadata": {},
     "output_type": "execute_result"
    }
   ],
   "source": [
    "df2[df2['E'].isin(['三','五'])]"
   ]
  },
  {
   "cell_type": "code",
   "execution_count": 69,
   "metadata": {
    "collapsed": true
   },
   "outputs": [],
   "source": [
    "df3 = df.copy()"
   ]
  },
  {
   "cell_type": "code",
   "execution_count": 71,
   "metadata": {},
   "outputs": [],
   "source": [
    "df3[df3 > 0] = -df3"
   ]
  },
  {
   "cell_type": "code",
   "execution_count": 72,
   "metadata": {},
   "outputs": [
    {
     "data": {
      "text/html": [
       "<div>\n",
       "<style>\n",
       "    .dataframe thead tr:only-child th {\n",
       "        text-align: right;\n",
       "    }\n",
       "\n",
       "    .dataframe thead th {\n",
       "        text-align: left;\n",
       "    }\n",
       "\n",
       "    .dataframe tbody tr th {\n",
       "        vertical-align: top;\n",
       "    }\n",
       "</style>\n",
       "<table border=\"1\" class=\"dataframe\">\n",
       "  <thead>\n",
       "    <tr style=\"text-align: right;\">\n",
       "      <th></th>\n",
       "      <th>A</th>\n",
       "      <th>B</th>\n",
       "      <th>C</th>\n",
       "      <th>D</th>\n",
       "      <th>E</th>\n",
       "    </tr>\n",
       "  </thead>\n",
       "  <tbody>\n",
       "    <tr>\n",
       "      <th>2017-11-10</th>\n",
       "      <td>-0.088949</td>\n",
       "      <td>-1.195171</td>\n",
       "      <td>-0.147498</td>\n",
       "      <td>-0.284960</td>\n",
       "      <td>-0.941807</td>\n",
       "    </tr>\n",
       "    <tr>\n",
       "      <th>2017-11-11</th>\n",
       "      <td>-0.652043</td>\n",
       "      <td>-0.372747</td>\n",
       "      <td>-1.111846</td>\n",
       "      <td>-1.205566</td>\n",
       "      <td>-0.795906</td>\n",
       "    </tr>\n",
       "    <tr>\n",
       "      <th>2017-11-12</th>\n",
       "      <td>-1.506811</td>\n",
       "      <td>-0.387936</td>\n",
       "      <td>-0.741005</td>\n",
       "      <td>-0.077212</td>\n",
       "      <td>-1.397194</td>\n",
       "    </tr>\n",
       "    <tr>\n",
       "      <th>2017-11-13</th>\n",
       "      <td>-0.436235</td>\n",
       "      <td>-0.484750</td>\n",
       "      <td>-0.355826</td>\n",
       "      <td>-0.537534</td>\n",
       "      <td>-0.135888</td>\n",
       "    </tr>\n",
       "    <tr>\n",
       "      <th>2017-11-14</th>\n",
       "      <td>-1.077810</td>\n",
       "      <td>-0.871428</td>\n",
       "      <td>-1.217853</td>\n",
       "      <td>-0.029406</td>\n",
       "      <td>-1.678076</td>\n",
       "    </tr>\n",
       "    <tr>\n",
       "      <th>2017-11-15</th>\n",
       "      <td>-1.178783</td>\n",
       "      <td>-1.220938</td>\n",
       "      <td>-0.675707</td>\n",
       "      <td>-1.036128</td>\n",
       "      <td>-0.004328</td>\n",
       "    </tr>\n",
       "  </tbody>\n",
       "</table>\n",
       "</div>"
      ],
      "text/plain": [
       "                   A         B         C         D         E\n",
       "2017-11-10 -0.088949 -1.195171 -0.147498 -0.284960 -0.941807\n",
       "2017-11-11 -0.652043 -0.372747 -1.111846 -1.205566 -0.795906\n",
       "2017-11-12 -1.506811 -0.387936 -0.741005 -0.077212 -1.397194\n",
       "2017-11-13 -0.436235 -0.484750 -0.355826 -0.537534 -0.135888\n",
       "2017-11-14 -1.077810 -0.871428 -1.217853 -0.029406 -1.678076\n",
       "2017-11-15 -1.178783 -1.220938 -0.675707 -1.036128 -0.004328"
      ]
     },
     "execution_count": 72,
     "metadata": {},
     "output_type": "execute_result"
    }
   ],
   "source": [
    "df3"
   ]
  },
  {
   "cell_type": "code",
   "execution_count": 73,
   "metadata": {},
   "outputs": [
    {
     "data": {
      "text/html": [
       "<div>\n",
       "<style>\n",
       "    .dataframe thead tr:only-child th {\n",
       "        text-align: right;\n",
       "    }\n",
       "\n",
       "    .dataframe thead th {\n",
       "        text-align: left;\n",
       "    }\n",
       "\n",
       "    .dataframe tbody tr th {\n",
       "        vertical-align: top;\n",
       "    }\n",
       "</style>\n",
       "<table border=\"1\" class=\"dataframe\">\n",
       "  <thead>\n",
       "    <tr style=\"text-align: right;\">\n",
       "      <th></th>\n",
       "      <th>A</th>\n",
       "      <th>B</th>\n",
       "      <th>C</th>\n",
       "      <th>D</th>\n",
       "      <th>E</th>\n",
       "    </tr>\n",
       "  </thead>\n",
       "  <tbody>\n",
       "    <tr>\n",
       "      <th>2017-11-10</th>\n",
       "      <td>0.088949</td>\n",
       "      <td>1.195171</td>\n",
       "      <td>-0.147498</td>\n",
       "      <td>-0.284960</td>\n",
       "      <td>一</td>\n",
       "    </tr>\n",
       "    <tr>\n",
       "      <th>2017-11-11</th>\n",
       "      <td>-0.652043</td>\n",
       "      <td>-0.372747</td>\n",
       "      <td>-1.111846</td>\n",
       "      <td>-1.205566</td>\n",
       "      <td>二</td>\n",
       "    </tr>\n",
       "    <tr>\n",
       "      <th>2017-11-12</th>\n",
       "      <td>1.506811</td>\n",
       "      <td>0.387936</td>\n",
       "      <td>0.741005</td>\n",
       "      <td>0.077212</td>\n",
       "      <td>三</td>\n",
       "    </tr>\n",
       "    <tr>\n",
       "      <th>2017-11-13</th>\n",
       "      <td>0.436235</td>\n",
       "      <td>-0.484750</td>\n",
       "      <td>-0.355826</td>\n",
       "      <td>-0.537534</td>\n",
       "      <td>四</td>\n",
       "    </tr>\n",
       "    <tr>\n",
       "      <th>2017-11-14</th>\n",
       "      <td>-1.077810</td>\n",
       "      <td>0.871428</td>\n",
       "      <td>-1.217853</td>\n",
       "      <td>0.029406</td>\n",
       "      <td>五</td>\n",
       "    </tr>\n",
       "    <tr>\n",
       "      <th>2017-11-15</th>\n",
       "      <td>-1.178783</td>\n",
       "      <td>1.220938</td>\n",
       "      <td>-0.675707</td>\n",
       "      <td>1.036128</td>\n",
       "      <td>六</td>\n",
       "    </tr>\n",
       "  </tbody>\n",
       "</table>\n",
       "</div>"
      ],
      "text/plain": [
       "                   A         B         C         D  E\n",
       "2017-11-10  0.088949  1.195171 -0.147498 -0.284960  一\n",
       "2017-11-11 -0.652043 -0.372747 -1.111846 -1.205566  二\n",
       "2017-11-12  1.506811  0.387936  0.741005  0.077212  三\n",
       "2017-11-13  0.436235 -0.484750 -0.355826 -0.537534  四\n",
       "2017-11-14 -1.077810  0.871428 -1.217853  0.029406  五\n",
       "2017-11-15 -1.178783  1.220938 -0.675707  1.036128  六"
      ]
     },
     "execution_count": 73,
     "metadata": {},
     "output_type": "execute_result"
    }
   ],
   "source": [
    "df2"
   ]
  },
  {
   "cell_type": "code",
   "execution_count": 74,
   "metadata": {
    "collapsed": true
   },
   "outputs": [],
   "source": [
    "df4 = df.copy()"
   ]
  },
  {
   "cell_type": "code",
   "execution_count": 75,
   "metadata": {
    "collapsed": true
   },
   "outputs": [],
   "source": [
    "df4[df4 > 0] = np.nan"
   ]
  },
  {
   "cell_type": "code",
   "execution_count": 76,
   "metadata": {},
   "outputs": [
    {
     "data": {
      "text/html": [
       "<div>\n",
       "<style>\n",
       "    .dataframe thead tr:only-child th {\n",
       "        text-align: right;\n",
       "    }\n",
       "\n",
       "    .dataframe thead th {\n",
       "        text-align: left;\n",
       "    }\n",
       "\n",
       "    .dataframe tbody tr th {\n",
       "        vertical-align: top;\n",
       "    }\n",
       "</style>\n",
       "<table border=\"1\" class=\"dataframe\">\n",
       "  <thead>\n",
       "    <tr style=\"text-align: right;\">\n",
       "      <th></th>\n",
       "      <th>A</th>\n",
       "      <th>B</th>\n",
       "      <th>C</th>\n",
       "      <th>D</th>\n",
       "      <th>E</th>\n",
       "    </tr>\n",
       "  </thead>\n",
       "  <tbody>\n",
       "    <tr>\n",
       "      <th>2017-11-10</th>\n",
       "      <td>NaN</td>\n",
       "      <td>NaN</td>\n",
       "      <td>-0.147498</td>\n",
       "      <td>-0.284960</td>\n",
       "      <td>NaN</td>\n",
       "    </tr>\n",
       "    <tr>\n",
       "      <th>2017-11-11</th>\n",
       "      <td>-0.652043</td>\n",
       "      <td>-0.372747</td>\n",
       "      <td>-1.111846</td>\n",
       "      <td>-1.205566</td>\n",
       "      <td>-0.795906</td>\n",
       "    </tr>\n",
       "    <tr>\n",
       "      <th>2017-11-12</th>\n",
       "      <td>NaN</td>\n",
       "      <td>NaN</td>\n",
       "      <td>NaN</td>\n",
       "      <td>NaN</td>\n",
       "      <td>-1.397194</td>\n",
       "    </tr>\n",
       "    <tr>\n",
       "      <th>2017-11-13</th>\n",
       "      <td>NaN</td>\n",
       "      <td>-0.484750</td>\n",
       "      <td>-0.355826</td>\n",
       "      <td>-0.537534</td>\n",
       "      <td>NaN</td>\n",
       "    </tr>\n",
       "    <tr>\n",
       "      <th>2017-11-14</th>\n",
       "      <td>-1.077810</td>\n",
       "      <td>NaN</td>\n",
       "      <td>-1.217853</td>\n",
       "      <td>NaN</td>\n",
       "      <td>-1.678076</td>\n",
       "    </tr>\n",
       "    <tr>\n",
       "      <th>2017-11-15</th>\n",
       "      <td>-1.178783</td>\n",
       "      <td>NaN</td>\n",
       "      <td>-0.675707</td>\n",
       "      <td>NaN</td>\n",
       "      <td>-0.004328</td>\n",
       "    </tr>\n",
       "  </tbody>\n",
       "</table>\n",
       "</div>"
      ],
      "text/plain": [
       "                   A         B         C         D         E\n",
       "2017-11-10       NaN       NaN -0.147498 -0.284960       NaN\n",
       "2017-11-11 -0.652043 -0.372747 -1.111846 -1.205566 -0.795906\n",
       "2017-11-12       NaN       NaN       NaN       NaN -1.397194\n",
       "2017-11-13       NaN -0.484750 -0.355826 -0.537534       NaN\n",
       "2017-11-14 -1.077810       NaN -1.217853       NaN -1.678076\n",
       "2017-11-15 -1.178783       NaN -0.675707       NaN -0.004328"
      ]
     },
     "execution_count": 76,
     "metadata": {},
     "output_type": "execute_result"
    }
   ],
   "source": [
    "df4"
   ]
  },
  {
   "cell_type": "code",
   "execution_count": 85,
   "metadata": {},
   "outputs": [
    {
     "data": {
      "image/png": "[encoded data removed]",
      "text/plain": [
       "<matplotlib.figure.Figure at 0x27bb6279cf8>"
      ]
     },
     "metadata": {},
     "output_type": "display_data"
    }
   ],
   "source": [
    "ts = pd.Series(np.random.randn(1000), index=pd.date_range('1/1/2000', periods=1000))\n",
    "ts = ts.cumsum()\n",
    "plt.figure()\n",
    "ts.plot()\n",
    "plt.show()"
   ]
  },
  {
   "cell_type": "code",
   "execution_count": 86,
   "metadata": {},
   "outputs": [
    {
     "data": {
      "text/plain": [
       "<matplotlib.figure.Figure at 0x27bb61ea668>"
      ]
     },
     "metadata": {},
     "output_type": "display_data"
    },
    {
     "data": {
      "image/png": "[encoded data removed]",
      "text/plain": [
       "<matplotlib.figure.Figure at 0x27bb60a3da0>"
      ]
     },
     "metadata": {},
     "output_type": "display_data"
    }
   ],
   "source": [
    "df5 = pd.DataFrame(np.random.randn(1000, 4), index=ts.index, columns=list('ABCD'))\n",
    "df5 = df5.cumsum()\n",
    "plt.figure();df.plot()\n",
    "plt.show()"
   ]
  },
  {
   "cell_type": "code",
   "execution_count": null,
   "metadata": {
    "collapsed": true
   },
   "outputs": [],
   "source": []
  }
 ],
 "metadata": {
  "kernelspec": {
   "display_name": "Python 3",
   "language": "python",
   "name": "python3"
  },
  "language_info": {
   "codemirror_mode": {
    "name": "ipython",
    "version": 3
   },
   "file_extension": ".py",
   "mimetype": "text/x-python",
   "name": "python",
   "nbconvert_exporter": "python",
   "pygments_lexer": "ipython3",
   "version": "3.6.3"
  }
 },
 "nbformat": 4,
 "nbformat_minor": 2
}
