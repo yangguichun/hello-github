{
 "cells": [
  {
   "cell_type": "code",
   "execution_count": 12,
   "metadata": {
    "collapsed": true
   },
   "outputs": [],
   "source": [
    "class Dog():\n",
    "    def __init__(self, name, age):\n",
    "        '''初始化name和age 属性'''\n",
    "        self._name = name\n",
    "        self.age = age\n",
    "        \n",
    "    def sit(self):\n",
    "        print(self._name.title(), ' is now sitting')    \n",
    "        \n",
    "    def roll_over(self):\n",
    "        print(self._name.title(), ' is now rolled over')"
   ]
  },
  {
   "cell_type": "code",
   "execution_count": 15,
   "metadata": {},
   "outputs": [
    {
     "name": "stdout",
     "output_type": "stream",
     "text": [
      "Zhangsan  is now sitting\n",
      "Zhangsan  is now rolled over\n"
     ]
    }
   ],
   "source": [
    "d = Dog('zhangsan', 3)\n",
    "d.sit()\n",
    "d.roll_over()"
   ]
  },
  {
   "cell_type": "markdown",
   "metadata": {},
   "source": [
    "# 有几点特色：\n",
    "1. 有一个__init__函数，相当于构造函数，比如类似于与Delphi中的constructor；\n",
    "2. 类名的后面要有圆括号；\n",
    "3. 成员方法的第一个入参必须是self；\n",
    "4. 所有的成员或者方法，默认都是公有的；\n",
    "5. 成员变量不需要事先定义，直接在__init__中使用即可；"
   ]
  },
  {
   "cell_type": "code",
   "execution_count": 16,
   "metadata": {},
   "outputs": [
    {
     "name": "stdout",
     "output_type": "stream",
     "text": [
      "dog name is  zhangsan\n"
     ]
    }
   ],
   "source": [
    "print('dog name is ', d._name)"
   ]
  },
  {
   "cell_type": "markdown",
   "metadata": {},
   "source": [
    "# 9.3 继承"
   ]
  },
  {
   "cell_type": "code",
   "execution_count": 30,
   "metadata": {
    "collapsed": true
   },
   "outputs": [],
   "source": [
    "class Car():\n",
    "    def __init__(self, maker, model, year):\n",
    "        self.maker = maker\n",
    "        self.model = model\n",
    "        self.year = year\n",
    "        self.odometer= 0\n",
    "        self.gas = 10\n",
    "    \n",
    "    def get_descriptive_name(self):\n",
    "        return '{} {} {}款'.format(self.year, self.maker, self.model)\n",
    "    \n",
    "    def update_odometer(self, mileage):\n",
    "        if mileage > self.odometer:\n",
    "            self.odometer = mileage\n",
    "        else:\n",
    "            print('you can not roll back the odometer')\n",
    "\n",
    "    def fill_gas_tank(self, gas):\n",
    "        self.gas = gas\n",
    "    \n",
    "    \n",
    "class ElectricCar(Car):\n",
    "    \"\"\"电动汽车\"\"\"\n",
    "    def __init__(self, maker, model, year):\n",
    "        super().__init__(maker, model, year)\n",
    "        self.battery_size = 70\n",
    "    \n",
    "    def get_battery_size(self):\n",
    "        return self.battery_size\n",
    "\n",
    "    def get_descriptive_name(self):\n",
    "        return super().get_descriptive_name() + ', 新能源汽车.'"
   ]
  },
  {
   "cell_type": "markdown",
   "metadata": {},
   "source": [
    "- 注：\n",
    "    - 通过super()访问父类的方法\n",
    "    - 所有的方法都是虚方法"
   ]
  },
  {
   "cell_type": "code",
   "execution_count": 31,
   "metadata": {},
   "outputs": [
    {
     "data": {
      "text/plain": [
       "'2017 比亚迪 唐款, 新能源汽车.'"
      ]
     },
     "execution_count": 31,
     "metadata": {},
     "output_type": "execute_result"
    }
   ],
   "source": [
    "byd = ElectricCar('比亚迪', '唐', '2017')\n",
    "byd.get_descriptive_name()"
   ]
  }
 ],
 "metadata": {
  "kernelspec": {
   "display_name": "Python 3",
   "language": "python",
   "name": "python3"
  },
  "language_info": {
   "codemirror_mode": {
    "name": "ipython",
    "version": 3
   },
   "file_extension": ".py",
   "mimetype": "text/x-python",
   "name": "python",
   "nbconvert_exporter": "python",
   "pygments_lexer": "ipython3",
   "version": "3.6.3"
  }
 },
 "nbformat": 4,
 "nbformat_minor": 2
}
