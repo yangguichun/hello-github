{
 "cells": [
  {
   "cell_type": "code",
   "execution_count": 8,
   "metadata": {},
   "outputs": [
    {
     "name": "stdout",
     "output_type": "stream",
     "text": [
      "input your name:lisi\n",
      "hello  lisi\n"
     ]
    }
   ],
   "source": [
    "name = input('input your name:')\n",
    "print('hello ', name)"
   ]
  },
  {
   "cell_type": "markdown",
   "metadata": {},
   "source": [
    "- 只要列表的len=0，则把他放在条件判断的地方就是False"
   ]
  },
  {
   "cell_type": "code",
   "execution_count": 9,
   "metadata": {},
   "outputs": [
    {
     "name": "stdout",
     "output_type": "stream",
     "text": [
      "name list is empty\n"
     ]
    }
   ],
   "source": [
    "nameList = []\n",
    "if nameList:\n",
    "    print('nameList is not empty')\n",
    "else:\n",
    "    print('name list is empty')"
   ]
  },
  {
   "cell_type": "code",
   "execution_count": 4,
   "metadata": {},
   "outputs": [
    {
     "name": "stdout",
     "output_type": "stream",
     "text": [
      "end the while\n"
     ]
    }
   ],
   "source": [
    "while nameList:\n",
    "    print('enter the while')\n",
    "    break;\n",
    "print('end the while')"
   ]
  },
  {
   "cell_type": "code",
   "execution_count": 12,
   "metadata": {},
   "outputs": [
    {
     "name": "stdout",
     "output_type": "stream",
     "text": [
      "['猫', '狗', '鸡', '猫', '猫', '猫', '猫']\n"
     ]
    }
   ],
   "source": [
    "animals = ['猫','狗','鸡','猫','猫','猫','猫']\n",
    "print(animals)"
   ]
  },
  {
   "cell_type": "markdown",
   "metadata": {},
   "source": [
    "- remove ，一次只能从最前面移除一个"
   ]
  },
  {
   "cell_type": "code",
   "execution_count": 11,
   "metadata": {},
   "outputs": [
    {
     "name": "stdout",
     "output_type": "stream",
     "text": [
      "['狗', '鸡', '猫', '猫', '猫', '猫']\n",
      "['狗', '鸡', '猫', '猫', '猫']\n",
      "['狗', '鸡', '猫', '猫']\n",
      "['狗', '鸡', '猫']\n",
      "['狗', '鸡']\n"
     ]
    }
   ],
   "source": [
    "while '猫' in animals:\n",
    "    animals.remove('猫')\n",
    "    print(animals)\n"
   ]
  }
 ],
 "metadata": {
  "kernelspec": {
   "display_name": "Python 3",
   "language": "python",
   "name": "python3"
  },
  "language_info": {
   "codemirror_mode": {
    "name": "ipython",
    "version": 3
   },
   "file_extension": ".py",
   "mimetype": "text/x-python",
   "name": "python",
   "nbconvert_exporter": "python",
   "pygments_lexer": "ipython3",
   "version": "3.6.3"
  }
 },
 "nbformat": 4,
 "nbformat_minor": 2
}
