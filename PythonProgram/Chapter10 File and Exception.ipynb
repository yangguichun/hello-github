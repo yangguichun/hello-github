{
 "cells": [
  {
   "cell_type": "markdown",
   "metadata": {},
   "source": [
    "- 内容提要\n",
    "    - 学习异常\n",
    "    - 学习json模块\n",
    "    - 学习文件和保存数据\n",
    "    "
   ]
  },
  {
   "cell_type": "markdown",
   "metadata": {},
   "source": [
    "# 10.1 读取文件"
   ]
  },
  {
   "cell_type": "code",
   "execution_count": 3,
   "metadata": {
    "scrolled": false
   },
   "outputs": [
    {
     "name": "stdout",
     "output_type": "stream",
     "text": [
      "3.1415926\n",
      "    1415926\n",
      "    1415926\n",
      "    1415926\n"
     ]
    }
   ],
   "source": [
    "with open('data_file\\python_libs.txt') as lib_file:\n",
    "    contents = lib_file.read()\n",
    "    print(contents)\n"
   ]
  },
  {
   "cell_type": "markdown",
   "metadata": {},
   "source": [
    "- 注意，这里使用with，就不用再去调用close了，就类似于c#中的using"
   ]
  },
  {
   "cell_type": "code",
   "execution_count": 5,
   "metadata": {},
   "outputs": [
    {
     "name": "stdout",
     "output_type": "stream",
     "text": [
      "3.1415926\n",
      "    1415926\n",
      "    1415926\n",
      "    1415926\n"
     ]
    }
   ],
   "source": [
    "with open('data_file/python_libs.txt') as lib_file:\n",
    "    for line in lib_file:\n",
    "        print(line.rstrip())"
   ]
  },
  {
   "cell_type": "markdown",
   "metadata": {},
   "source": [
    "- 疑问：以上只说了如何读取文本文件，如果是一个二进制文件，如何读取呢？"
   ]
  },
  {
   "cell_type": "markdown",
   "metadata": {},
   "source": [
    "# 10.2 写入文件"
   ]
  },
  {
   "cell_type": "code",
   "execution_count": 13,
   "metadata": {
    "collapsed": true
   },
   "outputs": [],
   "source": [
    "fileName = 'data_file/programming.txt'\n",
    "with open(fileName, 'w') as fileobj:\n",
    "    fileobj.writelines('i love python language!\\n')\n"
   ]
  },
  {
   "cell_type": "markdown",
   "metadata": {},
   "source": [
    "- 注意：如果要写入的文件已经存在 w 标识会将文件清空"
   ]
  },
  {
   "cell_type": "code",
   "execution_count": 14,
   "metadata": {
    "collapsed": true
   },
   "outputs": [],
   "source": [
    "with open(fileName, 'a') as fileobj:\n",
    "    fileobj.writelines('i love python language!\\n')"
   ]
  },
  {
   "cell_type": "markdown",
   "metadata": {},
   "source": [
    "# 10.3 异常"
   ]
  },
  {
   "cell_type": "markdown",
   "metadata": {},
   "source": [
    "### 错误示范"
   ]
  },
  {
   "cell_type": "code",
   "execution_count": 18,
   "metadata": {},
   "outputs": [
    {
     "ename": "ZeroDivisionError",
     "evalue": "division by zero",
     "output_type": "error",
     "traceback": [
      "\u001b[1;31m---------------------------------------------------------------------------\u001b[0m",
      "\u001b[1;31mZeroDivisionError\u001b[0m                         Traceback (most recent call last)",
      "\u001b[1;32m<ipython-input-18-42db4135b653>\u001b[0m in \u001b[0;36m<module>\u001b[1;34m()\u001b[0m\n\u001b[1;32m----> 1\u001b[1;33m \u001b[0mprint\u001b[0m\u001b[1;33m(\u001b[0m\u001b[1;36m5\u001b[0m\u001b[1;33m/\u001b[0m\u001b[1;36m0\u001b[0m\u001b[1;33m)\u001b[0m\u001b[1;33m\u001b[0m\u001b[0m\n\u001b[0m",
      "\u001b[1;31mZeroDivisionError\u001b[0m: division by zero"
     ]
    }
   ],
   "source": [
    "print(5/0)"
   ]
  },
  {
   "cell_type": "markdown",
   "metadata": {},
   "source": [
    "### try-except代码块"
   ]
  },
  {
   "cell_type": "code",
   "execution_count": 16,
   "metadata": {},
   "outputs": [
    {
     "name": "stdout",
     "output_type": "stream",
     "text": [
      "you can not divide by zero.\n"
     ]
    }
   ],
   "source": [
    "try:\n",
    "    print(5/0)\n",
    "except ZeroDivisionError:\n",
    "    print('you can not divide by zero.')\n"
   ]
  },
  {
   "cell_type": "markdown",
   "metadata": {},
   "source": [
    "> ` 疑问：我怎么知道有哪些系统预定义的异常？`"
   ]
  },
  {
   "cell_type": "markdown",
   "metadata": {},
   "source": [
    "### try-except-else代码块"
   ]
  },
  {
   "cell_type": "markdown",
   "metadata": {},
   "source": [
    "- 例子1："
   ]
  },
  {
   "cell_type": "code",
   "execution_count": 23,
   "metadata": {},
   "outputs": [
    {
     "name": "stdout",
     "output_type": "stream",
     "text": [
      "give me 2 number and then i will divide them.\n",
      "enter q to quit.\n",
      "first number\n",
      "5\n",
      "second number\n",
      "5\n",
      "divide result is 1.0\n",
      "first number\n",
      "q\n"
     ]
    }
   ],
   "source": [
    "print('give me 2 number and then i will divide them.')\n",
    "print('enter q to quit.')\n",
    "while True:\n",
    "    firstNum = input('first number\\n')\n",
    "    if firstNum == 'q':\n",
    "        break;\n",
    "    secondNum = input('second number\\n')\n",
    "    if secondNum == 'q':\n",
    "        break;\n",
    "    try:\n",
    "        res = int(firstNum)/int(secondNum)\n",
    "    except ZeroDivisionError:\n",
    "        print('zero divide')\n",
    "    else:\n",
    "        print('divide result is ' + str(res))\n",
    "        \n",
    "    "
   ]
  },
  {
   "cell_type": "markdown",
   "metadata": {},
   "source": [
    "- 例子2："
   ]
  },
  {
   "cell_type": "code",
   "execution_count": 22,
   "metadata": {},
   "outputs": [
    {
     "name": "stdout",
     "output_type": "stream",
     "text": [
      "book data_file/A_History_of_the_British_Army.txt has 205582 words\n"
     ]
    }
   ],
   "source": [
    "fileName = 'data_file/A_History_of_the_British_Army.txt'\n",
    "try:\n",
    "    with open(fileName) as fileObj:\n",
    "        contents = fileObj.read()\n",
    "except FileNotFoundError:\n",
    "    print('file:{} not exists.'.format(fileName))\n",
    "else:\n",
    "    words = contents.split()\n",
    "    wordCounts = len(words)\n",
    "    print('book {} has {} words'.format(fileName, wordCounts))\n",
    "    "
   ]
  },
  {
   "cell_type": "markdown",
   "metadata": {},
   "source": [
    "# 10.4 存储数据"
   ]
  },
  {
   "cell_type": "code",
   "execution_count": 26,
   "metadata": {},
   "outputs": [],
   "source": [
    "import json\n",
    "num = [3,5,10, 1983, 1980, 1999]\n",
    "fileName = 'data_file/numbers.txt'\n",
    "with open(fileName, 'w') as fileObj:\n",
    "    json.dump(num, fileObj)\n"
   ]
  },
  {
   "cell_type": "code",
   "execution_count": 30,
   "metadata": {},
   "outputs": [
    {
     "name": "stdout",
     "output_type": "stream",
     "text": [
      "[3, 5, 10, 1983, 1980, 1999]\n"
     ]
    }
   ],
   "source": [
    "with open(fileName) as fileObj:\n",
    "    num2 = json.load(fileObj)\n",
    "print(num2)"
   ]
  },
  {
   "cell_type": "code",
   "execution_count": null,
   "metadata": {
    "collapsed": true
   },
   "outputs": [],
   "source": []
  }
 ],
 "metadata": {
  "kernelspec": {
   "display_name": "Python 3",
   "language": "python",
   "name": "python3"
  },
  "language_info": {
   "codemirror_mode": {
    "name": "ipython",
    "version": 3
   },
   "file_extension": ".py",
   "mimetype": "text/x-python",
   "name": "python",
   "nbconvert_exporter": "python",
   "pygments_lexer": "ipython3",
   "version": "3.6.3"
  }
 },
 "nbformat": 4,
 "nbformat_minor": 2
}
