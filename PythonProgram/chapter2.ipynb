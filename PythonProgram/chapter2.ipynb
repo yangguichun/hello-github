{
 "cells": [
  {
   "cell_type": "code",
   "execution_count": 1,
   "metadata": {
    "scrolled": true
   },
   "outputs": [
    {
     "name": "stdout",
     "output_type": "stream",
     "text": [
      "string \" Python is beauty \" length = 18\n"
     ]
    }
   ],
   "source": [
    "str = ' Python is beauty '\n",
    "print('string \"{}\" length = {}'.format(str, len(str)))"
   ]
  },
  {
   "cell_type": "code",
   "execution_count": 2,
   "metadata": {},
   "outputs": [
    {
     "name": "stdout",
     "output_type": "stream",
     "text": [
      "string \"Python is beauty\" length = 16\n"
     ]
    }
   ],
   "source": [
    "str = str.strip()\n",
    "print('string \"{}\" length = {}'.format(str, len(str)))"
   ]
  },
  {
   "cell_type": "code",
   "execution_count": 3,
   "metadata": {},
   "outputs": [
    {
     "name": "stdout",
     "output_type": "stream",
     "text": [
      "27\n"
     ]
    }
   ],
   "source": [
    "print(3**3)"
   ]
  },
  {
   "cell_type": "code",
   "execution_count": 4,
   "metadata": {
    "collapsed": true
   },
   "outputs": [],
   "source": [
    "team = ['zhangsan', 'lisi', 'wangwu', 'zhaoliu']"
   ]
  },
  {
   "cell_type": "code",
   "execution_count": 5,
   "metadata": {},
   "outputs": [
    {
     "name": "stdout",
     "output_type": "stream",
     "text": [
      "['zhangsan', 'lisi', 'wangwu', 'zhaoliu']\n"
     ]
    }
   ],
   "source": [
    "print(team)"
   ]
  },
  {
   "cell_type": "code",
   "execution_count": 6,
   "metadata": {},
   "outputs": [
    {
     "name": "stdout",
     "output_type": "stream",
     "text": [
      "['zhangsan', 'lisi', 'wangwu', 'zhaoliu', 'qianqi']\n"
     ]
    }
   ],
   "source": [
    "team.append('qianqi')\n",
    "print(team)"
   ]
  },
  {
   "cell_type": "code",
   "execution_count": 7,
   "metadata": {},
   "outputs": [
    {
     "name": "stdout",
     "output_type": "stream",
     "text": [
      "['zhangsan', 'lisi', '李四', 'wangwu', 'zhaoliu', 'qianqi']\n"
     ]
    }
   ],
   "source": [
    "team.insert(2, '李四')\n",
    "print(team)"
   ]
  },
  {
   "cell_type": "code",
   "execution_count": 8,
   "metadata": {
    "collapsed": true
   },
   "outputs": [],
   "source": [
    "del team[2]"
   ]
  },
  {
   "cell_type": "code",
   "execution_count": 9,
   "metadata": {},
   "outputs": [
    {
     "name": "stdout",
     "output_type": "stream",
     "text": [
      "['zhangsan', 'lisi', 'wangwu', 'zhaoliu', 'qianqi']\n"
     ]
    }
   ],
   "source": [
    "print(team)"
   ]
  },
  {
   "cell_type": "code",
   "execution_count": 10,
   "metadata": {},
   "outputs": [
    {
     "name": "stdout",
     "output_type": "stream",
     "text": [
      "['zhangsan', 'lisi', 'wangwu', 'zhaoliu']\n",
      "qianqi\n"
     ]
    }
   ],
   "source": [
    "member = team.pop()\n",
    "print(team)\n",
    "print(member)"
   ]
  },
  {
   "cell_type": "code",
   "execution_count": 11,
   "metadata": {
    "collapsed": true
   },
   "outputs": [],
   "source": [
    "team.append(member)"
   ]
  },
  {
   "cell_type": "markdown",
   "metadata": {},
   "source": [
    "# 可以pop出列表中任何一个位置的元素，如下"
   ]
  },
  {
   "cell_type": "code",
   "execution_count": 12,
   "metadata": {},
   "outputs": [
    {
     "name": "stdout",
     "output_type": "stream",
     "text": [
      "['zhangsan', 'wangwu', 'zhaoliu', 'qianqi']\n",
      "lisi\n"
     ]
    }
   ],
   "source": [
    "member = team.pop(1)\n",
    "print(team)\n",
    "print(member)"
   ]
  },
  {
   "cell_type": "markdown",
   "metadata": {},
   "source": [
    "根据值删除元素"
   ]
  },
  {
   "cell_type": "code",
   "execution_count": 13,
   "metadata": {},
   "outputs": [
    {
     "name": "stdout",
     "output_type": "stream",
     "text": [
      "['zhangsan', 'wangwu', 'zhaoliu', 'qianqi']\n",
      "['zhangsan', 'zhaoliu', 'qianqi']\n"
     ]
    }
   ],
   "source": [
    "print(team)\n",
    "team.remove('wangwu')\n",
    "print(team)"
   ]
  },
  {
   "cell_type": "code",
   "execution_count": 14,
   "metadata": {},
   "outputs": [
    {
     "name": "stdout",
     "output_type": "stream",
     "text": [
      "['qianqi', 'zhangsan', 'zhaoliu']\n"
     ]
    }
   ],
   "source": [
    "team.sort()\n",
    "print(team)"
   ]
  },
  {
   "cell_type": "code",
   "execution_count": 15,
   "metadata": {},
   "outputs": [
    {
     "name": "stdout",
     "output_type": "stream",
     "text": [
      "['zhaoliu', 'zhangsan', 'qianqi']\n"
     ]
    }
   ],
   "source": [
    "team.sort(reverse = True)\n",
    "print(team)"
   ]
  },
  {
   "cell_type": "code",
   "execution_count": 16,
   "metadata": {},
   "outputs": [
    {
     "name": "stdout",
     "output_type": "stream",
     "text": [
      "sorted list: ['lisi', 'wangwu', 'zhangsan', 'zhaoliu']\n",
      "orginal teaam: ['zhangsan', 'lisi', 'wangwu', 'zhaoliu']\n"
     ]
    }
   ],
   "source": [
    "team = ['zhangsan', 'lisi', 'wangwu', 'zhaoliu']\n",
    "print('sorted list:', sorted(team))\n",
    "print('orginal teaam:', team)"
   ]
  },
  {
   "cell_type": "code",
   "execution_count": 17,
   "metadata": {},
   "outputs": [
    {
     "name": "stdout",
     "output_type": "stream",
     "text": [
      "zhaoliu\n"
     ]
    }
   ],
   "source": [
    "print(team[-1])"
   ]
  },
  {
   "cell_type": "code",
   "execution_count": null,
   "metadata": {
    "collapsed": true
   },
   "outputs": [],
   "source": []
  }
 ],
 "metadata": {
  "kernelspec": {
   "display_name": "Python 3",
   "language": "python",
   "name": "python3"
  },
  "language_info": {
   "codemirror_mode": {
    "name": "ipython",
    "version": 3
   },
   "file_extension": ".py",
   "mimetype": "text/x-python",
   "name": "python",
   "nbconvert_exporter": "python",
   "pygments_lexer": "ipython3",
   "version": "3.6.3"
  }
 },
 "nbformat": 4,
 "nbformat_minor": 2
}
