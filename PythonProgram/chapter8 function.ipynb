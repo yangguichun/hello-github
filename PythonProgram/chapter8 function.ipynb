{
 "cells": [
  {
   "cell_type": "code",
   "execution_count": 1,
   "metadata": {
    "collapsed": true
   },
   "outputs": [],
   "source": [
    "def greet(name):\n",
    "    '''打印依据问候语'''\n",
    "    print('hello ', name)\n",
    "    "
   ]
  },
  {
   "cell_type": "code",
   "execution_count": 2,
   "metadata": {},
   "outputs": [
    {
     "name": "stdout",
     "output_type": "stream",
     "text": [
      "hello  zhangsan\n"
     ]
    }
   ],
   "source": [
    "greet('zhangsan')"
   ]
  },
  {
   "cell_type": "code",
   "execution_count": 4,
   "metadata": {},
   "outputs": [
    {
     "name": "stdout",
     "output_type": "stream",
     "text": [
      "Zhangsan\n"
     ]
    }
   ],
   "source": [
    "name = 'zhangsan'\n",
    "print(name.title())"
   ]
  },
  {
   "cell_type": "markdown",
   "metadata": {},
   "source": [
    "- 让参数变成可选的"
   ]
  },
  {
   "cell_type": "code",
   "execution_count": 6,
   "metadata": {},
   "outputs": [
    {
     "data": {
      "text/plain": [
       "'Wang Laowu'"
      ]
     },
     "execution_count": 6,
     "metadata": {},
     "output_type": "execute_result"
    }
   ],
   "source": [
    "def get_formatted_name(first_name, last_name, middle_name=''):\n",
    "    if middle_name: \n",
    "        full_name = '{} {} {}'.format(first_name, middle_name, last_name)\n",
    "    else:\n",
    "        full_name = '{} {}'.format(first_name, last_name)\n",
    "    return full_name.title()\n",
    "\n",
    "get_formatted_name('wang', 'laowu')"
   ]
  },
  {
   "cell_type": "code",
   "execution_count": 8,
   "metadata": {},
   "outputs": [
    {
     "data": {
      "text/plain": [
       "'范 徐 利泰'"
      ]
     },
     "execution_count": 8,
     "metadata": {},
     "output_type": "execute_result"
    }
   ],
   "source": [
    "get_formatted_name('范', '利泰', '徐')"
   ]
  },
  {
   "cell_type": "markdown",
   "metadata": {},
   "source": [
    "- 对于一个会修改列表入参的函数，如何防止他修改列表内容：复制一份"
   ]
  },
  {
   "cell_type": "code",
   "execution_count": 13,
   "metadata": {},
   "outputs": [
    {
     "name": "stdout",
     "output_type": "stream",
     "text": [
      "sorted list  ['lisi', 'wangwu', 'zhangsan']\n",
      "orginal list  ['zhangsan', 'lisi', 'wangwu']\n"
     ]
    }
   ],
   "source": [
    "def sort_list(user_list):\n",
    "    user_list.sort()\n",
    "    return user_list\n",
    "\n",
    "user_list = ['zhangsan', 'lisi', 'wangwu']\n",
    "print('sorted list ', sort_list(user_list[:]))\n",
    "print('orginal list ', user_list)\n"
   ]
  },
  {
   "cell_type": "markdown",
   "metadata": {},
   "source": [
    "# 8.5传递任意数量的参数"
   ]
  },
  {
   "cell_type": "code",
   "execution_count": 14,
   "metadata": {},
   "outputs": [
    {
     "name": "stdout",
     "output_type": "stream",
     "text": [
      "('虾仁',)\n"
     ]
    }
   ],
   "source": [
    "def make_pizza(*topping):\n",
    "    print(topping)\n",
    "\n",
    "make_pizza('虾仁')"
   ]
  },
  {
   "cell_type": "code",
   "execution_count": 15,
   "metadata": {},
   "outputs": [
    {
     "name": "stdout",
     "output_type": "stream",
     "text": [
      "('虾仁', '鲍鱼', '萝卜干')\n"
     ]
    }
   ],
   "source": [
    "make_pizza('虾仁', '鲍鱼', '萝卜干')"
   ]
  },
  {
   "cell_type": "markdown",
   "metadata": {},
   "source": [
    "- 可见， topping是一个元组，两边是圆括号，不是方括号"
   ]
  },
  {
   "cell_type": "markdown",
   "metadata": {},
   "source": [
    "** 8.5.2 提供任意数量的关键字实参 **"
   ]
  },
  {
   "cell_type": "code",
   "execution_count": 19,
   "metadata": {},
   "outputs": [
    {
     "name": "stdout",
     "output_type": "stream",
     "text": [
      "{'fist_name': 'zhang', 'last_name': 'san', 'age': 35, 'mail': 'zhangsan@qq.com'}\n"
     ]
    }
   ],
   "source": [
    "def build_profile(first, last, **user_info):\n",
    "    profile={}\n",
    "    profile['fist_name'] = first\n",
    "    profile['last_name'] = last\n",
    "    for key, value in user_info.items():\n",
    "        profile[key]= value\n",
    "    return profile;\n",
    "\n",
    "zhangsan_profile = build_profile('zhang', 'san', age=35, mail='zhangsan@qq.com')\n",
    "print(zhangsan_profile)"
   ]
  },
  {
   "cell_type": "markdown",
   "metadata": {},
   "source": [
    "- 注意：上面是两个\\*\\*，在Python中，用\\*\\*的参数来接收所有键值对参数"
   ]
  },
  {
   "cell_type": "markdown",
   "metadata": {},
   "source": [
    "** 我们来试试各种类型参数混用的情况 **"
   ]
  },
  {
   "cell_type": "code",
   "execution_count": 37,
   "metadata": {},
   "outputs": [
    {
     "name": "stdout",
     "output_type": "stream",
     "text": [
      "{'姓': '张', '名': '三', '性别': '男', '年龄': 55, '电话': '一路发', '爱好': ('爬山', '徒步', '跑步', '羽毛球')}\n"
     ]
    }
   ],
   "source": [
    "def build_person(first, last, *hobby, **user_profile):\n",
    "    person = {}\n",
    "    person['姓'] = first\n",
    "    person['名'] = last\n",
    "    for key, value in user_profile.items():\n",
    "        person[key] = value\n",
    "    person['爱好'] = hobby\n",
    "    return person\n",
    "\n",
    "p = build_person('张', '三','爬山','徒步', '跑步', '羽毛球', 性别='男', 年龄=55, 电话='一路发')\n",
    "print(p)"
   ]
  },
  {
   "cell_type": "markdown",
   "metadata": {},
   "source": [
    "** 注意:在任意数量参数 和 任意数量关键字参数混用的时候, \\*参数要放在 \\*\\*参数的前面 **"
   ]
  },
  {
   "cell_type": "markdown",
   "metadata": {},
   "source": [
    "# 8.6.1 jupyter notebook中使用模块"
   ]
  },
  {
   "cell_type": "code",
   "execution_count": 46,
   "metadata": {},
   "outputs": [
    {
     "name": "stdout",
     "output_type": "stream",
     "text": [
      "{'姓': '张', '名': '三', '性别': '男', '年龄': 55, '电话': '一路发', '爱好': ('爬山', '徒步', '跑步', '羽毛球')}\n",
      "{'姓': '张', '名': '三', '性别': '男', '年龄': 55, '电话': '一路发', '爱好': ('爬山', '徒步', '跑步', '羽毛球')}\n"
     ]
    }
   ],
   "source": [
    "# 导入方法1\n",
    "from person import build_person2\n",
    "# 导入方法2\n",
    "from person import build_person2 as bp2\n",
    "\n",
    "p = build_person2('张', '三','爬山','徒步', '跑步', '羽毛球', 性别='男', 年龄=55, 电话='一路发')\n",
    "print(p)\n",
    "p = bp2('张', '三','爬山','徒步', '跑步', '羽毛球', 性别='男', 年龄=55, 电话='一路发')\n",
    "print(p)"
   ]
  },
  {
   "cell_type": "code",
   "execution_count": null,
   "metadata": {
    "collapsed": true
   },
   "outputs": [],
   "source": []
  }
 ],
 "metadata": {
  "kernelspec": {
   "display_name": "Python 3",
   "language": "python",
   "name": "python3"
  },
  "language_info": {
   "codemirror_mode": {
    "name": "ipython",
    "version": 3
   },
   "file_extension": ".py",
   "mimetype": "text/x-python",
   "name": "python",
   "nbconvert_exporter": "python",
   "pygments_lexer": "ipython3",
   "version": "3.6.3"
  }
 },
 "nbformat": 4,
 "nbformat_minor": 2
}
