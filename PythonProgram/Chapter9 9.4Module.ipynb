{
 "cells": [
  {
   "cell_type": "markdown",
   "metadata": {},
   "source": [
    "# 9.4 模块"
   ]
  },
  {
   "cell_type": "markdown",
   "metadata": {
    "collapsed": true
   },
   "source": [
    "- 从模块中引入类，如果要引入多个类，则使用逗号分隔"
   ]
  },
  {
   "cell_type": "code",
   "execution_count": 1,
   "metadata": {},
   "outputs": [
    {
     "data": {
      "text/plain": [
       "'2016 特斯拉 Model S款, 新能源汽车.'"
      ]
     },
     "execution_count": 1,
     "metadata": {},
     "output_type": "execute_result"
    }
   ],
   "source": [
    "from car import ElectricCar\n",
    "myCar = ElectricCar(\"特斯拉\", \"Model S\", 2016)\n",
    "myCar.get_descriptive_name()"
   ]
  },
  {
   "cell_type": "markdown",
   "metadata": {},
   "source": [
    "- 引入整个模块，注意下文中怎么使用模块内部的类\n",
    "    - 因为引入的是模块，所以要使用模块内的类，就必须使用模块名作为前缀，像是一个名字空间"
   ]
  },
  {
   "cell_type": "code",
   "execution_count": 5,
   "metadata": {},
   "outputs": [
    {
     "data": {
      "text/plain": [
       "'2016 特斯拉 Model X款, 新能源汽车.'"
      ]
     },
     "execution_count": 5,
     "metadata": {},
     "output_type": "execute_result"
    }
   ],
   "source": [
    "import car\n",
    "myCar2 = car.ElectricCar(\"特斯拉\", \"Model X\", 2016)\n",
    "myCar2.get_descriptive_name()"
   ]
  },
  {
   "cell_type": "markdown",
   "metadata": {},
   "source": [
    "- 引入一个模块中的所有类，一般不推荐这么用，很容易引起名字空间污染"
   ]
  },
  {
   "cell_type": "code",
   "execution_count": 7,
   "metadata": {},
   "outputs": [
    {
     "data": {
      "text/plain": [
       "'2016 吉利 帝豪款'"
      ]
     },
     "execution_count": 7,
     "metadata": {},
     "output_type": "execute_result"
    }
   ],
   "source": [
    "from car import *\n",
    "myCar3 = Car('吉利', '帝豪', 2016)\n",
    "myCar3.get_descriptive_name()"
   ]
  },
  {
   "cell_type": "code",
   "execution_count": 10,
   "metadata": {},
   "outputs": [
    {
     "data": {
      "text/plain": [
       "'2016 吉利 帝豪款'"
      ]
     },
     "execution_count": 10,
     "metadata": {},
     "output_type": "execute_result"
    }
   ],
   "source": [
    "myCar3.get_descriptive_name()"
   ]
  },
  {
   "cell_type": "markdown",
   "metadata": {},
   "source": [
    "# [在不同层级目录下引用模块的方法](http://www.cnblogs.com/luoye00/p/5223543.html)\n",
    "使用python进行程序编写时，经常会使用第三方模块包。这种包我们可以通过python setup install 进行安装后，通过import XXX或from XXX import yyy 进行导入。不过如果是自己遍写的依赖包，又不想安装到python的相应目录，可以放到本目录里进行import进行调用；为了更清晰的理清程序之间的关系，例如我们会把这种包放到lib目录再调用。本篇就针对常见的模块调用方法汇总下。\n",
    "\n",
    "** 1. 同级目录下的调有 **\n",
    "\n",
    "程序结构如下：\n",
    "\n",
    "```\n",
    "-- src\n",
    "    |-- mod1.py\n",
    "    |-- test1.py\n",
    "```\n",
    "\n",
    "若在程序test1.py中导入模块mod1, 则直接使用\n",
    "```\n",
    "import mod1\n",
    "或\n",
    "from mod1 import *;\n",
    "```\n",
    "** 2. 调用子目录下的模块 **\n",
    "\n",
    "\n",
    "程序结构如下：\n",
    "```\n",
    "-- src\n",
    "    |-- mod1.py\n",
    "    |-- lib\n",
    "    |    |-- mod2.py\n",
    "    |-- test1.py\n",
    "```\n",
    "\n",
    "这时看到test1.py和lib目录（即mod2.py的父级目录），如果想在程序test1.py中导入模块mod2.py ，可以在lib件夹中建立空文件__init__.py文件(也可以在该文件中自定义输出模块接口)，然后使用：\n",
    "```\n",
    "from lib.mod2 import *\n",
    "或\n",
    "import lib.mod2.\n",
    "```\n",
    "\n",
    "** 3. 调用上级目录下的文件**\n",
    "\n",
    "\n",
    "程序结构如下：\n",
    "```\n",
    "-- src\n",
    "    |-- mod1.py\n",
    "    |-- lib\n",
    "    |    |-- mod2.py\n",
    "    |-- sub\n",
    "    |    |-- test2.py\n",
    "```\n",
    "\n",
    "这里想要实现test2.py调用mod1.py和mod2.py ，做法是我们先跳到src目录下面，直接可以调用mod1，然后在lib上当下建一个空文件__init__.py ，就可以像第二步调用子目录下的模块一样，通过import  lib.mod2进行调用了。具体代码如下：\n",
    "\n",
    "```\n",
    "import sys\n",
    "sys.path.append(\"..\")\n",
    "import mod1\n",
    "import mod2.mod2\n",
    "```"
   ]
  },
  {
   "cell_type": "markdown",
   "metadata": {
    "collapsed": true
   },
   "source": [
    "# 9.5 标准库"
   ]
  },
  {
   "cell_type": "code",
   "execution_count": 4,
   "metadata": {},
   "outputs": [
    {
     "name": "stdout",
     "output_type": "stream",
     "text": [
      "zhangsan learned Python\n",
      "lisi learned Java\n",
      "wangwu learned C++\n",
      "qianliu learned Ruby\n"
     ]
    }
   ],
   "source": [
    "from collections import OrderedDict\n",
    "learned_lang = OrderedDict()\n",
    "learned_lang['zhangsan'] = 'Python'\n",
    "learned_lang['lisi'] = 'Java'\n",
    "learned_lang['wangwu'] = 'C++'\n",
    "learned_lang['qianliu'] = 'Ruby'\n",
    "\n",
    "for key, value in learned_lang.items():\n",
    "    print('{} learned {}'.format(key, value))\n"
   ]
  },
  {
   "cell_type": "markdown",
   "metadata": {},
   "source": [
    "- 这个类不错，他兼具dict和list的优点"
   ]
  },
  {
   "cell_type": "markdown",
   "metadata": {},
   "source": [
    "- 类的编码规则\n",
    "    - 类名要使用驼峰命名法\n",
    "    - 先导入标注库， 空行，再导入自定义的模块"
   ]
  }
 ],
 "metadata": {
  "kernelspec": {
   "display_name": "Python 3",
   "language": "python",
   "name": "python3"
  },
  "language_info": {
   "codemirror_mode": {
    "name": "ipython",
    "version": 3
   },
   "file_extension": ".py",
   "mimetype": "text/x-python",
   "name": "python",
   "nbconvert_exporter": "python",
   "pygments_lexer": "ipython3",
   "version": "3.6.3"
  }
 },
 "nbformat": 4,
 "nbformat_minor": 2
}
